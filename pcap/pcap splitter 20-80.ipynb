{
 "cells": [
  {
   "cell_type": "markdown",
   "metadata": {},
   "source": [
    "### we divided the pcap files into test (20) and train(80) here."
   ]
  },
  {
   "cell_type": "code",
   "execution_count": 1,
   "metadata": {},
   "outputs": [],
   "source": [
    "from scapy.all import *\n"
   ]
  },
  {
   "cell_type": "code",
   "execution_count": 2,
   "metadata": {},
   "outputs": [],
   "source": [
    "def write(pkt,name):\n",
    "    wrpcap(name, pkt, append=True)  #appends packet to output file"
   ]
  },
  {
   "cell_type": "code",
   "execution_count": 9,
   "metadata": {},
   "outputs": [
    {
     "data": {
      "text/plain": [
       "['./16-10-07.pcap2-NestDropcam@.pcap', './unknownmaybecam.pcap']"
      ]
     },
     "execution_count": 9,
     "metadata": {},
     "output_type": "execute_result"
    }
   ],
   "source": [
    "#University of South Wales\n",
    "def find_the_way(path,file_format):\n",
    "    files_add = []\n",
    "    # r=root, d=directories, f = files\n",
    "    for r, d, f in os.walk(path):\n",
    "        for file in f:\n",
    "            if file_format in file:\n",
    "                files_add.append(os.path.join(r, file))  \n",
    "    return files_add\n",
    "files_add=find_the_way('./','pcap')\n",
    "files_add"
   ]
  },
  {
   "cell_type": "code",
   "execution_count": 10,
   "metadata": {},
   "outputs": [
    {
     "data": {
      "text/plain": [
       "2"
      ]
     },
     "execution_count": 10,
     "metadata": {},
     "output_type": "execute_result"
    }
   ],
   "source": [
    "len(files_add)"
   ]
  },
  {
   "cell_type": "code",
   "execution_count": 11,
   "metadata": {},
   "outputs": [
    {
     "name": "stdout",
     "output_type": "stream",
     "text": [
      "   -   0 / 2\n",
      "   -   1 / 2\n"
     ]
    }
   ],
   "source": [
    "for ii,i in enumerate(files_add):\n",
    "    pkt = rdpcap(i)\n",
    "    limit=int((len(pkt)/10)*2)\n",
    "    print(\"   -  \",ii,\"/\",len(files_add))\n",
    "    counter=0\n",
    "    for jj, j in enumerate (pkt):\n",
    "        \n",
    "        try:        \n",
    "            if jj%sayaç==0:                    \n",
    "                sys.stdout.write(\"\\r[\" + \"=\" * int(jj//sayaç) +  \" \" * int((sayaç*20 - jj)// sayaç) + \"]\" +  str(5*jj//sayaç) + \"%\")\n",
    "                sys.stdout.flush()\n",
    "        except:pass  \n",
    "        if j.haslayer(ARP):\n",
    "            continue\n",
    "        else:\n",
    "            counter+=1\n",
    "            \n",
    "            if limit>counter:\n",
    "                name=i[:-5]+\"_Test.pcap\"\n",
    "            else:\n",
    "                name=i[:-5]+\"_Train.pcap\"             \n",
    "            write(j,name)\n"
   ]
  },
  {
   "cell_type": "code",
   "execution_count": 12,
   "metadata": {},
   "outputs": [
    {
     "data": {
      "text/plain": [
       "['./16-10-07.pcap2-NestDropcam@.pcap',\n",
       " './16-10-07.pcap2-NestDropcam@_Test.pcap',\n",
       " './16-10-07.pcap2-NestDropcam@_Train.pcap',\n",
       " './unknownmaybecam.pcap',\n",
       " './unknownmaybecam_Test.pcap',\n",
       " './unknownmaybecam_Train.pcap']"
      ]
     },
     "execution_count": 12,
     "metadata": {},
     "output_type": "execute_result"
    }
   ],
   "source": [
    "#University of South Wales\n",
    "def find_the_way(path,file_format):\n",
    "    files_add = []\n",
    "    # r=root, d=directories, f = files\n",
    "    for r, d, f in os.walk(path):\n",
    "        for file in f:\n",
    "            if file_format in file:\n",
    "                files_add.append(os.path.join(r, file))  \n",
    "    return files_add\n",
    "files_add=find_the_way('./','pcap')\n",
    "files_add"
   ]
  },
  {
   "cell_type": "code",
   "execution_count": 13,
   "metadata": {},
   "outputs": [
    {
     "name": "stdout",
     "output_type": "stream",
     "text": [
      "./16-10-07.pcap2-NestDropcam@.pcap 47714\n",
      "./16-10-07.pcap2-NestDropcam@_Test.pcap 9541\n",
      "./16-10-07.pcap2-NestDropcam@_Train.pcap 38136\n",
      "./unknownmaybecam.pcap 372\n",
      "./unknownmaybecam_Test.pcap 73\n",
      "./unknownmaybecam_Train.pcap 267\n"
     ]
    }
   ],
   "source": [
    "\n",
    "\n",
    "for ii,i in enumerate(files_add):\n",
    "    pkt = rdpcap(i)\n",
    "    print(i,len(pkt))\n"
   ]
  }
 ],
 "metadata": {
  "kernelspec": {
   "display_name": "Python 3",
   "language": "python",
   "name": "python3"
  },
  "language_info": {
   "codemirror_mode": {
    "name": "ipython",
    "version": 3
   },
   "file_extension": ".py",
   "mimetype": "text/x-python",
   "name": "python",
   "nbconvert_exporter": "python",
   "pygments_lexer": "ipython3",
   "version": "3.6.5"
  }
 },
 "nbformat": 4,
 "nbformat_minor": 2
}
