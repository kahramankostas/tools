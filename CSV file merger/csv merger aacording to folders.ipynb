{
 "cells": [
  {
   "cell_type": "code",
   "execution_count": null,
   "metadata": {},
   "outputs": [],
   "source": [
    "import numpy as np\n",
    "import pandas as pd\n",
    "import os\n"
   ]
  },
  {
   "cell_type": "markdown",
   "metadata": {},
   "source": [
    "### Discovering csv extension files under \"csvs\" folder."
   ]
  },
  {
   "cell_type": "code",
   "execution_count": null,
   "metadata": {},
   "outputs": [],
   "source": [
    "def find_the_way(path,file_format):\n",
    "    files_add = []\n",
    "    # r=root, d=directories, f = files\n",
    "    for r, d, f in os.walk(path):\n",
    "        for file in f:\n",
    "            if file_format in file:\n",
    "                files_add.append(os.path.join(r, file))  \n",
    "    return files_add\n",
    "name_list=find_the_way('./FE','.csv')\n",
    "name_list"
   ]
  },
  {
   "cell_type": "code",
   "execution_count": null,
   "metadata": {},
   "outputs": [],
   "source": [
    "unique=[]\n",
    "for i in name_list:\n",
    "    temp=i[5:-28]\n",
    "    if temp not in unique:\n",
    "        unique.append(temp)\n",
    "        print(temp)\n",
    "    "
   ]
  },
  {
   "cell_type": "code",
   "execution_count": null,
   "metadata": {},
   "outputs": [],
   "source": []
  },
  {
   "cell_type": "code",
   "execution_count": null,
   "metadata": {},
   "outputs": [],
   "source": [
    "for i in unique:\n",
    "    name_list=find_the_way('./',i)\n",
    "    name=f\"./son/{i}_FE.csv\"\n",
    "\n",
    "    df=pd.read_csv(name_list[0])\n",
    "    col_names=list(df.columns)\n",
    "\n",
    "\n",
    "    empty = pd.DataFrame(columns=col_names)\n",
    "    empty.to_csv(name, mode=\"a\", index=False)#,header=False)\n",
    "\n",
    "    for iii in name_list:\n",
    "        df=pd.read_csv(iii)\n",
    "        print(\"name and shape of dataframe :\",iii,df.shape)\n",
    "        df.to_csv(name, mode=\"a\", index=False,header=False)\n",
    "\n",
    "\n",
    "    df=pd.read_csv(name)\n",
    "\n",
    "    print(\"\\n\\n\\nname and shape of dataframe :\",name,df.shape)"
   ]
  },
  {
   "cell_type": "code",
   "execution_count": null,
   "metadata": {},
   "outputs": [],
   "source": [
    "i"
   ]
  },
  {
   "cell_type": "code",
   "execution_count": null,
   "metadata": {},
   "outputs": [],
   "source": []
  },
  {
   "cell_type": "code",
   "execution_count": null,
   "metadata": {},
   "outputs": [],
   "source": [
    "for i in name_list:\n",
    "    temp=i.split(\"_\")\n",
    "    #print(len(temp))\n",
    "    #if len(temp)==16:\n",
    "    #os.remove(i)\n",
    "        "
   ]
  },
  {
   "cell_type": "code",
   "execution_count": null,
   "metadata": {},
   "outputs": [],
   "source": []
  },
  {
   "cell_type": "code",
   "execution_count": null,
   "metadata": {},
   "outputs": [],
   "source": []
  },
  {
   "cell_type": "code",
   "execution_count": null,
   "metadata": {},
   "outputs": [],
   "source": [
    "unique=[]\n",
    "for i in name_list:\n",
    "    temp=i.split(\"\\\\\")[0][2:]\n",
    "    if temp not in unique:\n",
    "        unique.append(temp)\n",
    "        print(temp)\n",
    "    "
   ]
  },
  {
   "cell_type": "code",
   "execution_count": null,
   "metadata": {
    "scrolled": true
   },
   "outputs": [],
   "source": [
    "for i in unique:\n",
    "    name_list=find_the_way('./',i)\n",
    "    name=f\"./{i}/{i}.csv\"\n",
    "    print(name)\n",
    "    #os.remove(name)"
   ]
  },
  {
   "cell_type": "code",
   "execution_count": null,
   "metadata": {
    "scrolled": false
   },
   "outputs": [],
   "source": [
    "for i in unique:\n",
    "    name_list=find_the_way('./',i)\n",
    "    name=f\"./{i}/{i}_WS.csv\"\n",
    "    df=pd.read_csv(name_list[0])\n",
    "    col_names=list(df.columns)\n",
    "\n",
    "\n",
    "    empty = pd.DataFrame(columns=col_names)\n",
    "    empty.to_csv(name, mode=\"a\", index=False)#,header=False)\n",
    "\n",
    "    for iii in name_list:\n",
    "        df=pd.read_csv(iii)\n",
    "        print(\"name and shape of dataframe :\",iii,df.shape)\n",
    "        df.to_csv(name, mode=\"a\", index=False,header=False)\n",
    "\n",
    "\n",
    "    df=pd.read_csv(name)\n",
    "\n",
    "    print(\"\\n\\n\\nname and shape of dataframe :\",name,df.shape)"
   ]
  },
  {
   "cell_type": "code",
   "execution_count": null,
   "metadata": {},
   "outputs": [],
   "source": [
    "ii"
   ]
  },
  {
   "cell_type": "code",
   "execution_count": null,
   "metadata": {
    "scrolled": false
   },
   "outputs": [],
   "source": []
  },
  {
   "cell_type": "code",
   "execution_count": null,
   "metadata": {},
   "outputs": [],
   "source": []
  }
 ],
 "metadata": {
  "kernelspec": {
   "display_name": "Python 3 (ipykernel)",
   "language": "python",
   "name": "python3"
  },
  "language_info": {
   "codemirror_mode": {
    "name": "ipython",
    "version": 3
   },
   "file_extension": ".py",
   "mimetype": "text/x-python",
   "name": "python",
   "nbconvert_exporter": "python",
   "pygments_lexer": "ipython3",
   "version": "3.9.12"
  }
 },
 "nbformat": 4,
 "nbformat_minor": 2
}
