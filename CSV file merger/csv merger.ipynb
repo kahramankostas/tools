{
 "cells": [
  {
   "cell_type": "code",
   "execution_count": 1,
   "metadata": {},
   "outputs": [],
   "source": [
    "import numpy as np\n",
    "import pandas as pd\n",
    "import os\n"
   ]
  },
  {
   "cell_type": "markdown",
   "metadata": {},
   "source": [
    "### Discovering csv extension files under \"csvs\" folder."
   ]
  },
  {
   "cell_type": "code",
   "execution_count": 2,
   "metadata": {},
   "outputs": [
    {
     "data": {
      "text/plain": [
       "['./csvs\\\\18-05-28-HelloBarbie.pcap.csv',\n",
       " './csvs\\\\18-05-29-HelloBarbie.pcap.csv',\n",
       " './csvs\\\\18-05-30-HelloBarbie.pcap.csv',\n",
       " './csvs\\\\18-05-31-HelloBarbie.pcap.csv',\n",
       " './csvs\\\\18-10-10-HelloBarbie.pcap.csv',\n",
       " './csvs\\\\18-10-11-HelloBarbie.pcap.csv',\n",
       " './csvs\\\\18-10-12-HelloBarbie.pcap.csv',\n",
       " './csvs\\\\18-10-13-HelloBarbie.pcap.csv',\n",
       " './csvs\\\\18-10-14-HelloBarbie.pcap.csv',\n",
       " './csvs\\\\18-10-15-HelloBarbie.pcap.csv',\n",
       " './csvs\\\\18-10-16-HelloBarbie.pcap.csv',\n",
       " './csvs\\\\18-10-17-HelloBarbie.pcap.csv',\n",
       " './csvs\\\\18-10-18-HelloBarbie.pcap.csv']"
      ]
     },
     "execution_count": 2,
     "metadata": {},
     "output_type": "execute_result"
    }
   ],
   "source": [
    "def find_the_way(path,file_format):\n",
    "    files_add = []\n",
    "    # r=root, d=directories, f = files\n",
    "    for r, d, f in os.walk(path):\n",
    "        for file in f:\n",
    "            if file_format in file:\n",
    "                files_add.append(os.path.join(r, file))  \n",
    "    return files_add\n",
    "name_list=find_the_way('./csvs','.csv')\n",
    "name_list"
   ]
  },
  {
   "cell_type": "code",
   "execution_count": 6,
   "metadata": {
    "scrolled": false
   },
   "outputs": [
    {
     "name": "stdout",
     "output_type": "stream",
     "text": [
      "name and shape of dataframe : ./csvs\\18-05-28-HelloBarbie.pcap.csv (98, 97)\n",
      "name and shape of dataframe : ./csvs\\18-05-29-HelloBarbie.pcap.csv (5, 97)\n",
      "name and shape of dataframe : ./csvs\\18-05-30-HelloBarbie.pcap.csv (5, 97)\n",
      "name and shape of dataframe : ./csvs\\18-05-31-HelloBarbie.pcap.csv (2, 97)\n",
      "name and shape of dataframe : ./csvs\\18-10-10-HelloBarbie.pcap.csv (7, 97)\n",
      "name and shape of dataframe : ./csvs\\18-10-11-HelloBarbie.pcap.csv (7, 97)\n",
      "name and shape of dataframe : ./csvs\\18-10-12-HelloBarbie.pcap.csv (7, 97)\n",
      "name and shape of dataframe : ./csvs\\18-10-13-HelloBarbie.pcap.csv (21, 97)\n",
      "name and shape of dataframe : ./csvs\\18-10-14-HelloBarbie.pcap.csv (3, 97)\n",
      "name and shape of dataframe : ./csvs\\18-10-15-HelloBarbie.pcap.csv (3, 97)\n",
      "name and shape of dataframe : ./csvs\\18-10-16-HelloBarbie.pcap.csv (3, 97)\n",
      "name and shape of dataframe : ./csvs\\18-10-17-HelloBarbie.pcap.csv (3, 97)\n",
      "name and shape of dataframe : ./csvs\\18-10-18-HelloBarbie.pcap.csv (3, 97)\n",
      "\n",
      "\n",
      "\n",
      "name and shape of dataframe : output.csv (503, 97)\n"
     ]
    }
   ],
   "source": [
    "name=\"output.csv\"\n",
    "df=pd.read_csv(name_list[0])\n",
    "col_names=list(df.columns)\n",
    "\n",
    "\n",
    "empty = pd.DataFrame(columns=col_names)\n",
    "empty.to_csv(name, mode=\"a\", index=False)#,header=False)\n",
    "\n",
    "for iii in name_list:\n",
    "    df=pd.read_csv(iii)\n",
    "    print(\"name and shape of dataframe :\",iii,df.shape)\n",
    "    df.to_csv(name, mode=\"a\", index=False,header=False)\n",
    "\n",
    "\n",
    "df=pd.read_csv(name)\n",
    "\n",
    "print(\"\\n\\n\\nname and shape of dataframe :\",name,df.shape)"
   ]
  },
  {
   "cell_type": "code",
   "execution_count": null,
   "metadata": {},
   "outputs": [],
   "source": []
  }
 ],
 "metadata": {
  "kernelspec": {
   "display_name": "Python 3",
   "language": "python",
   "name": "python3"
  },
  "language_info": {
   "codemirror_mode": {
    "name": "ipython",
    "version": 3
   },
   "file_extension": ".py",
   "mimetype": "text/x-python",
   "name": "python",
   "nbconvert_exporter": "python",
   "pygments_lexer": "ipython3",
   "version": "3.6.5"
  }
 },
 "nbformat": 4,
 "nbformat_minor": 2
}
