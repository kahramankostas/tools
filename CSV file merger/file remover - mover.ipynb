{
 "cells": [
  {
   "cell_type": "code",
   "execution_count": null,
   "id": "efa2b508",
   "metadata": {},
   "outputs": [],
   "source": [
    "import os"
   ]
  },
  {
   "cell_type": "code",
   "execution_count": null,
   "id": "8abc3795",
   "metadata": {},
   "outputs": [],
   "source": [
    "def find_the_way(path,file_format):\n",
    "    files_add = []\n",
    "    # r=root, d=directories, f = files\n",
    "    for r, d, f in os.walk(path):\n",
    "        for file in f:\n",
    "            if file_format in file:\n",
    "                files_add.append(os.path.join(r, file))  \n",
    "    return files_add\n",
    "name_list=find_the_way('./','.csv')\n",
    "name_list"
   ]
  },
  {
   "cell_type": "code",
   "execution_count": null,
   "id": "07a57d22",
   "metadata": {},
   "outputs": [],
   "source": [
    "for i in name_list:\n",
    "    print(i)\n",
    "    #os.remove(i)"
   ]
  },
  {
   "cell_type": "code",
   "execution_count": null,
   "id": "b314a9f6",
   "metadata": {},
   "outputs": [],
   "source": [
    "for i in name_list:\n",
    "    temp=i.split(\"\\\\\")[1].replace(\"./\",\"./WS/\")\n",
    "    print(i)\n",
    "    #os.remove(i)\n",
    "    os.rename(i, temp)\n"
   ]
  },
  {
   "cell_type": "code",
   "execution_count": null,
   "id": "f37303cb",
   "metadata": {},
   "outputs": [],
   "source": [
    "name_list=find_the_way('./WS','')\n",
    "for i in name_list:\n",
    "    temp=f\"{i}_WS.csv\"\n",
    "    print(i)\n",
    "    #os.remove(i)\n",
    "    os.rename(i, temp)\n"
   ]
  }
 ],
 "metadata": {
  "kernelspec": {
   "display_name": "Python 3 (ipykernel)",
   "language": "python",
   "name": "python3"
  },
  "language_info": {
   "codemirror_mode": {
    "name": "ipython",
    "version": 3
   },
   "file_extension": ".py",
   "mimetype": "text/x-python",
   "name": "python",
   "nbconvert_exporter": "python",
   "pygments_lexer": "ipython3",
   "version": "3.9.12"
  }
 },
 "nbformat": 4,
 "nbformat_minor": 5
}
