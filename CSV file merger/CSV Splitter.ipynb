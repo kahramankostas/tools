{
 "cells": [
  {
   "cell_type": "code",
   "execution_count": null,
   "metadata": {},
   "outputs": [],
   "source": []
  },
  {
   "cell_type": "code",
   "execution_count": 5,
   "metadata": {},
   "outputs": [
    {
     "name": "stdout",
     "output_type": "stream",
     "text": [
      "Test11_1.csv\n",
      "Test11_2.csv\n",
      "Test11_3.csv\n",
      "Test11_4.csv\n",
      "Test11_5.csv\n",
      "Test11_6.csv\n"
     ]
    }
   ],
   "source": [
    "name='2_index_with_haversine_distance.csv'\n",
    "flag=1\n",
    "count=0\n",
    "linenumber=3000000\n",
    "fileno=1\n",
    "with open(name, \"r\") as file:\n",
    "    while True:\n",
    "        line=file.readline()\n",
    "        if line==\"\":\n",
    "            break\n",
    "        if flag:\n",
    "            header=line\n",
    "            flag=0\n",
    "        \n",
    "        if count%linenumber==0:\n",
    "            try:ths.close()\n",
    "            except:print()\n",
    "            smaller=name[:-4]+\"_\"+str(fileno)+\".csv\"\n",
    "            print(smaller)\n",
    "            ths = open(smaller, \"w\")\n",
    "            ths.write(header)\n",
    "            fileno+=1\n",
    "        if line!=header:\n",
    "            ths.write(line)\n",
    "            \n",
    "            \n",
    "        count+=1 \n"
   ]
  }
 ],
 "metadata": {
  "kernelspec": {
   "display_name": "Python 3",
   "language": "python",
   "name": "python3"
  },
  "language_info": {
   "codemirror_mode": {
    "name": "ipython",
    "version": 3
   },
   "file_extension": ".py",
   "mimetype": "text/x-python",
   "name": "python",
   "nbconvert_exporter": "python",
   "pygments_lexer": "ipython3",
   "version": "3.6.5"
  }
 },
 "nbformat": 4,
 "nbformat_minor": 2
}
