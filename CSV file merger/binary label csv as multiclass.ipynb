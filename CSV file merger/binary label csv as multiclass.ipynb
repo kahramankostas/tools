{
 "cells": [
  {
   "cell_type": "code",
   "execution_count": 26,
   "metadata": {},
   "outputs": [],
   "source": [
    "import numpy as np\n",
    "import pandas as pd\n",
    "import os\n"
   ]
  },
  {
   "cell_type": "code",
   "execution_count": 30,
   "metadata": {},
   "outputs": [
    {
     "data": {
      "text/plain": [
       "['./Active Wiretap.csv',\n",
       " './ARP MitM.csv',\n",
       " './Fuzzing.csv',\n",
       " './Mirai.csv',\n",
       " './OS Scan.csv',\n",
       " './SSDP Flood.csv',\n",
       " './SSL Renegotiation.csv',\n",
       " './SYN DoS.csv',\n",
       " './Video Injection.csv']"
      ]
     },
     "execution_count": 30,
     "metadata": {},
     "output_type": "execute_result"
    }
   ],
   "source": [
    "def find_the_way(path,file_format):\n",
    "    files_add = []\n",
    "    # r=root, d=directories, f = files\n",
    "    for r, d, f in os.walk(path):\n",
    "        for file in f:\n",
    "            if file_format in file:\n",
    "                files_add.append(os.path.join(r, file))  \n",
    "    return files_add\n",
    "name_list=find_the_way('./','.csv')\n",
    "name_list"
   ]
  },
  {
   "cell_type": "code",
   "execution_count": 31,
   "metadata": {},
   "outputs": [
    {
     "name": "stdout",
     "output_type": "stream",
     "text": [
      "name and shape of dataframe : ./Active Wiretap.csv (100000, 100)\n",
      "name and shape of dataframe : ./ARP MitM.csv (100000, 100)\n",
      "name and shape of dataframe : ./Fuzzing.csv (100000, 100)\n",
      "name and shape of dataframe : ./Mirai.csv (100000, 100)\n",
      "name and shape of dataframe : ./OS Scan.csv (100000, 100)\n",
      "name and shape of dataframe : ./SSDP Flood.csv (100000, 100)\n",
      "name and shape of dataframe : ./SSL Renegotiation.csv (100000, 100)\n",
      "name and shape of dataframe : ./SYN DoS.csv (14076, 100)\n",
      "name and shape of dataframe : ./Video Injection.csv (100000, 100)\n"
     ]
    }
   ],
   "source": [
    "name=\"output.csv\"\n",
    "df=pd.read_csv(name_list[0])\n",
    "col_names=list(df.columns)\n",
    "\n",
    "\n",
    "empty = pd.DataFrame(columns=col_names)\n",
    "empty.to_csv(name, mode=\"w\", index=False)#,header=False)\n",
    "\n",
    "for iii in name_list:\n",
    "    new_labels={0:\"Benign\",1:iii[2:-4]}\n",
    "    df=pd.read_csv(iii)\n",
    "    print(\"name and shape of dataframe :\",iii,df.shape)\n",
    "    df=df.replace({\"Label\": new_labels})\n",
    "    df.to_csv(name, mode=\"a\", index=False,header=False)\n",
    "\n",
    "\n"
   ]
  },
  {
   "cell_type": "code",
   "execution_count": 32,
   "metadata": {},
   "outputs": [
    {
     "name": "stdout",
     "output_type": "stream",
     "text": [
      "Label\n",
      "ARP MitM              50000\n",
      "Active Wiretap        50000\n",
      "Benign               407038\n",
      "Fuzzing               50000\n",
      "Mirai                 50000\n",
      "OS Scan               50000\n",
      "SSDP Flood            50000\n",
      "SSL Renegotiation     50000\n",
      "SYN DoS                7038\n",
      "Video Injection       50000\n",
      "dtype: int64\n"
     ]
    }
   ],
   "source": [
    "df=pd.read_csv(name)\n",
    "print(df.groupby(\"Label\").size())"
   ]
  },
  {
   "cell_type": "code",
   "execution_count": null,
   "metadata": {},
   "outputs": [],
   "source": []
  },
  {
   "cell_type": "code",
   "execution_count": null,
   "metadata": {},
   "outputs": [],
   "source": []
  },
  {
   "cell_type": "code",
   "execution_count": 21,
   "metadata": {},
   "outputs": [
    {
     "name": "stderr",
     "output_type": "stream",
     "text": [
      "c:\\users\\kahraman\\appdata\\local\\programs\\python\\python36\\lib\\site-packages\\IPython\\core\\interactiveshell.py:2728: DtypeWarning: Columns (99) have mixed types.Specify dtype option on import or set low_memory=False.\n",
      "  interactivity=interactivity, compiler=compiler, result=result)\n"
     ]
    },
    {
     "name": "stdout",
     "output_type": "stream",
     "text": [
      "Label\n",
      "0                    335872\n",
      "0                     71166\n",
      "ARP MitM              50000\n",
      "Active Wiretap        50000\n",
      "Fuzzing               50000\n",
      "Mirai                 50000\n",
      "OS Scan               50000\n",
      "SSDP Flood            50000\n",
      "SSL Renegotiation     50000\n",
      "SYN DoS                7038\n",
      "Video Injection       50000\n",
      "dtype: int64\n",
      "Label\n",
      "0                    407038\n",
      "ARP MitM              50000\n",
      "Active Wiretap        50000\n",
      "Fuzzing               50000\n",
      "Mirai                 50000\n",
      "OS Scan               50000\n",
      "SSDP Flood            50000\n",
      "SSL Renegotiation     50000\n",
      "SYN DoS                7038\n",
      "Video Injection       50000\n",
      "dtype: int64\n",
      "\n",
      "\n",
      "\n",
      "name and shape of dataframe : output.csv (814076, 100)\n"
     ]
    }
   ],
   "source": [
    "df=pd.read_csv(name)\n",
    "print(df.groupby(\"Label\").size())\n",
    "new_labels={0:\"0\"}\n",
    "df=df.replace({\"Label\": new_labels})\n",
    "\n",
    "df.to_csv(name,  index=False)\n",
    "print(df.groupby(\"Label\").size())\n",
    "print(\"\\n\\n\\nname and shape of dataframe :\",name,df.shape)"
   ]
  },
  {
   "cell_type": "code",
   "execution_count": 25,
   "metadata": {},
   "outputs": [
    {
     "name": "stdout",
     "output_type": "stream",
     "text": [
      "Label\n",
      "0                    407038\n",
      "ARP MitM              50000\n",
      "Active Wiretap        50000\n",
      "Fuzzing               50000\n",
      "Mirai                 50000\n",
      "OS Scan               50000\n",
      "SSDP Flood            50000\n",
      "SSL Renegotiation     50000\n",
      "SYN DoS                7038\n",
      "Video Injection       50000\n",
      "dtype: int64\n"
     ]
    }
   ],
   "source": [
    "df=pd.read_csv(name, converters={'Label': lambda x: str(x)})\n",
    "#uniqueId = df[\"Label\"].unique() \n",
    "print(df.groupby(\"Label\").size())"
   ]
  },
  {
   "cell_type": "code",
   "execution_count": 19,
   "metadata": {},
   "outputs": [
    {
     "data": {
      "text/plain": [
       "array([0, '0', 'Active Wiretap', 'ARP MitM', 'Fuzzing', 'Mirai',\n",
       "       'OS Scan', 'SSDP Flood', 'SSL Renegotiation', 'SYN DoS',\n",
       "       'Video Injection'], dtype=object)"
      ]
     },
     "execution_count": 19,
     "metadata": {},
     "output_type": "execute_result"
    }
   ],
   "source": [
    "uniqueId"
   ]
  },
  {
   "cell_type": "code",
   "execution_count": 9,
   "metadata": {},
   "outputs": [
    {
     "name": "stdout",
     "output_type": "stream",
     "text": [
      "Active Wiretap\n",
      "ARP MitM\n",
      "Fuzzing\n",
      "Mirai\n",
      "OS Scan\n",
      "SSDP Flood\n",
      "SSL Renegotiation\n",
      "SYN DoS\n",
      "Video Injection\n"
     ]
    }
   ],
   "source": [
    "for iii in name_list:\n",
    "    print(iii[2:-4])"
   ]
  },
  {
   "cell_type": "code",
   "execution_count": null,
   "metadata": {},
   "outputs": [],
   "source": [
    "df.sort_values('Label')"
   ]
  },
  {
   "cell_type": "code",
   "execution_count": null,
   "metadata": {},
   "outputs": [],
   "source": []
  },
  {
   "cell_type": "code",
   "execution_count": null,
   "metadata": {},
   "outputs": [],
   "source": []
  },
  {
   "cell_type": "code",
   "execution_count": 22,
   "metadata": {},
   "outputs": [],
   "source": [
    "uniqueId = df[\"Label\"].unique() "
   ]
  },
  {
   "cell_type": "code",
   "execution_count": 23,
   "metadata": {},
   "outputs": [
    {
     "data": {
      "text/plain": [
       "array(['0', 'Active Wiretap', 'ARP MitM', 'Fuzzing', 'Mirai', 'OS Scan',\n",
       "       'SSDP Flood', 'SSL Renegotiation', 'SYN DoS', 'Video Injection'],\n",
       "      dtype=object)"
      ]
     },
     "execution_count": 23,
     "metadata": {},
     "output_type": "execute_result"
    }
   ],
   "source": [
    "uniqueId"
   ]
  },
  {
   "cell_type": "code",
   "execution_count": null,
   "metadata": {},
   "outputs": [],
   "source": []
  }
 ],
 "metadata": {
  "kernelspec": {
   "display_name": "Python 3",
   "language": "python",
   "name": "python3"
  },
  "language_info": {
   "codemirror_mode": {
    "name": "ipython",
    "version": 3
   },
   "file_extension": ".py",
   "mimetype": "text/x-python",
   "name": "python",
   "nbconvert_exporter": "python",
   "pygments_lexer": "ipython3",
   "version": "3.6.5"
  }
 },
 "nbformat": 4,
 "nbformat_minor": 2
}
