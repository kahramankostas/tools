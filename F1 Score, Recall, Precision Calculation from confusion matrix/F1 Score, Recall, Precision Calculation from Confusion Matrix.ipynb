{
 "cells": [
  {
   "cell_type": "code",
   "execution_count": 1,
   "metadata": {},
   "outputs": [],
   "source": [
    "import warnings\n",
    "warnings.filterwarnings(\"ignore\")"
   ]
  },
  {
   "cell_type": "code",
   "execution_count": 2,
   "metadata": {},
   "outputs": [],
   "source": [
    "import sklearn\n",
    "import numpy as np\n",
    "import pandas as pd\n",
    "from sklearn.tree import DecisionTreeClassifier\n"
   ]
  },
  {
   "cell_type": "code",
   "execution_count": 3,
   "metadata": {},
   "outputs": [],
   "source": [
    "ml_list={\"DT\":sklearn.tree.DecisionTreeClassifier()}#,\"SVC\":SVC()}}"
   ]
  },
  {
   "cell_type": "code",
   "execution_count": 4,
   "metadata": {},
   "outputs": [],
   "source": [
    "loop1=\"./csvs/iris_train.csv\"\n",
    "loop2=\"./csvs/iris_test.csv\"\n",
    "output_csv=\"./results/100R.csv\"\n",
    "dname=\"IRIS_100_times\"\n",
    "ii=\"DT\""
   ]
  },
  {
   "cell_type": "code",
   "execution_count": 5,
   "metadata": {},
   "outputs": [],
   "source": [
    "\n",
    "df = pd.read_csv(loop1)#,header=None )\n",
    "df=df.fillna(0)\n",
    "X_train =df[df.columns[0:-1]]\n",
    "X_train=np.array(X_train)\n",
    "df[df.columns[-1]] = df[df.columns[-1]].astype('category')\n",
    "y_train=df[df.columns[-1]].cat.codes  \n",
    "\n",
    "\n",
    "df = pd.read_csv(loop2)#,header=None )\n",
    "df=df.fillna(0)\n",
    "X_test =df[df.columns[0:-1]]\n",
    "X_test=np.array(X_test)\n",
    "df[df.columns[-1]] = df[df.columns[-1]].astype('category')\n",
    "y_test=df[df.columns[-1]].cat.codes  \n",
    "\n",
    "\n",
    "\n",
    "cv=0\n",
    "\n",
    "\n",
    "#dname=loop1  [6:-13]  \n",
    "results_y=[]\n",
    "cv+=1\n",
    "results_y.append(y_test)\n",
    "\n",
    "\n",
    "precision=[]\n",
    "recall=[]\n",
    "f1=[]\n",
    "accuracy=[]\n",
    "train_time=[]\n",
    "test_time=[]\n",
    "total_time=[]\n",
    "kappa=[]\n",
    "accuracy_b=[]\n",
    "\n",
    "clf = ml_list[ii]\n",
    "\n",
    "clf.fit(X_train, y_train)\n",
    "\n",
    "\n",
    "predict =clf.predict(X_test)\n",
    "\n",
    "\n",
    "df=sklearn.metrics.classification_report(y_test, predict, output_dict=True)     \n",
    "df = pd.DataFrame(df).transpose()\n",
    "\n",
    "\n",
    "\n",
    "cm = pd.DataFrame(sklearn.metrics.confusion_matrix(y_test, predict))\n",
    "rc=sklearn.metrics.recall_score(y_test, predict,average= \"macro\")\n",
    "pr=sklearn.metrics.precision_score(y_test, predict,average= \"macro\")\n",
    "f_1=sklearn.metrics.f1_score(y_test, predict,average= \"macro\")     \n",
    "accuracy=sklearn.metrics.accuracy_score(y_test, predict)\n"
   ]
  },
  {
   "cell_type": "markdown",
   "metadata": {},
   "source": [
    "# Result of Sklearn"
   ]
  },
  {
   "cell_type": "code",
   "execution_count": 6,
   "metadata": {},
   "outputs": [
    {
     "name": "stdout",
     "output_type": "stream",
     "text": [
      "              precision    recall  f1-score    support\n",
      "0              1.000000  1.000000  1.000000  13.000000\n",
      "1              0.800000  1.000000  0.888889  12.000000\n",
      "2              1.000000  0.769231  0.869565  13.000000\n",
      "accuracy       0.921053  0.921053  0.921053   0.921053\n",
      "macro avg      0.933333  0.923077  0.919485  38.000000\n",
      "weighted avg   0.936842  0.921053  0.920290  38.000000\n"
     ]
    }
   ],
   "source": [
    "print(df)"
   ]
  },
  {
   "cell_type": "code",
   "execution_count": null,
   "metadata": {},
   "outputs": [],
   "source": []
  },
  {
   "cell_type": "markdown",
   "metadata": {},
   "source": [
    "# F1 Score, Recall, Precision Calculation from confusion matrix    "
   ]
  },
  {
   "cell_type": "code",
   "execution_count": 7,
   "metadata": {},
   "outputs": [],
   "source": [
    "# this part taken from: https://gist.github.com/leeyt/2905778bf3989eaffb76708844cf7f89\n",
    "\n",
    "def scores(cm, i):\n",
    "    TP = 0\n",
    "    FP = 0\n",
    "    TN = 0\n",
    "    FN = 0\n",
    "    \n",
    "    for j in range(len(cm)):\n",
    "        print\n",
    "        if (i == j):\n",
    "            # true positive\n",
    "            TP += cm[i, j]\n",
    "            tmp = np.delete(cm, i, 0)\n",
    "            tmp = np.delete(tmp, j, 1)\n",
    "            # true negative\n",
    "            TN += np.sum(tmp)\n",
    "        else:\n",
    "            if (cm[i, j] != 0):\n",
    "                # false negative\n",
    "                FN += cm[i, j]\n",
    "            if (cm[j, i] != 0):\n",
    "                # false positive\n",
    "                FP += cm[j, i]\n",
    "    recall = TP / (FN + TP)\n",
    "    precision = TP / (TP + FP)\n",
    "    f1_score = 2 * 1/(1/recall + 1/precision)\n",
    "    \n",
    "    return [recall,precision,f1_score]"
   ]
  },
  {
   "cell_type": "code",
   "execution_count": 8,
   "metadata": {},
   "outputs": [
    {
     "name": "stdout",
     "output_type": "stream",
     "text": [
      "[13, 0, 0]\n",
      "[0, 12, 0]\n",
      "[0, 3, 10]\n"
     ]
    }
   ],
   "source": [
    "d_list=[]\n",
    "for i in cm.values:\n",
    "    print(list(i))\n",
    "    d_list.append(list(i))\n",
    "d_list=np.array(d_list)\n"
   ]
  },
  {
   "cell_type": "code",
   "execution_count": 9,
   "metadata": {},
   "outputs": [],
   "source": [
    "class_based=[]\n",
    "for i in range(len(cm)):\n",
    "    temp=[f\"class {i}\"]\n",
    "    temp=temp+scores(d_list,i)\n",
    "    class_based.append(temp)\n",
    "df = pd.DataFrame(class_based,columns=[\"Class\",'recall', 'precision', 'f1_score'])"
   ]
  },
  {
   "cell_type": "code",
   "execution_count": null,
   "metadata": {},
   "outputs": [],
   "source": []
  },
  {
   "cell_type": "code",
   "execution_count": 10,
   "metadata": {},
   "outputs": [],
   "source": [
    "average=dict(df.mean())\n",
    "average[\"accuracy\"]=np.trace(d_list)/d_list.sum()"
   ]
  },
  {
   "cell_type": "markdown",
   "metadata": {},
   "source": [
    "# Result of Algorithm"
   ]
  },
  {
   "cell_type": "code",
   "execution_count": 11,
   "metadata": {},
   "outputs": [
    {
     "data": {
      "text/html": [
       "<div>\n",
       "<style scoped>\n",
       "    .dataframe tbody tr th:only-of-type {\n",
       "        vertical-align: middle;\n",
       "    }\n",
       "\n",
       "    .dataframe tbody tr th {\n",
       "        vertical-align: top;\n",
       "    }\n",
       "\n",
       "    .dataframe thead th {\n",
       "        text-align: right;\n",
       "    }\n",
       "</style>\n",
       "<table border=\"1\" class=\"dataframe\">\n",
       "  <thead>\n",
       "    <tr style=\"text-align: right;\">\n",
       "      <th></th>\n",
       "      <th>Class</th>\n",
       "      <th>recall</th>\n",
       "      <th>precision</th>\n",
       "      <th>f1_score</th>\n",
       "    </tr>\n",
       "  </thead>\n",
       "  <tbody>\n",
       "    <tr>\n",
       "      <th>0</th>\n",
       "      <td>class 0</td>\n",
       "      <td>1.000000</td>\n",
       "      <td>1.0</td>\n",
       "      <td>1.000000</td>\n",
       "    </tr>\n",
       "    <tr>\n",
       "      <th>1</th>\n",
       "      <td>class 1</td>\n",
       "      <td>1.000000</td>\n",
       "      <td>0.8</td>\n",
       "      <td>0.888889</td>\n",
       "    </tr>\n",
       "    <tr>\n",
       "      <th>2</th>\n",
       "      <td>class 2</td>\n",
       "      <td>0.769231</td>\n",
       "      <td>1.0</td>\n",
       "      <td>0.869565</td>\n",
       "    </tr>\n",
       "  </tbody>\n",
       "</table>\n",
       "</div>"
      ],
      "text/plain": [
       "     Class    recall  precision  f1_score\n",
       "0  class 0  1.000000        1.0  1.000000\n",
       "1  class 1  1.000000        0.8  0.888889\n",
       "2  class 2  0.769231        1.0  0.869565"
      ]
     },
     "execution_count": 11,
     "metadata": {},
     "output_type": "execute_result"
    }
   ],
   "source": [
    "df"
   ]
  },
  {
   "cell_type": "code",
   "execution_count": 12,
   "metadata": {},
   "outputs": [
    {
     "data": {
      "text/plain": [
       "{'recall': 0.923076923076923,\n",
       " 'precision': 0.9333333333333332,\n",
       " 'f1_score': 0.9194847020933977,\n",
       " 'accuracy': 0.9210526315789473}"
      ]
     },
     "execution_count": 12,
     "metadata": {},
     "output_type": "execute_result"
    }
   ],
   "source": [
    "average"
   ]
  }
 ],
 "metadata": {
  "kernelspec": {
   "display_name": "Python 3 (ipykernel)",
   "language": "python",
   "name": "python3"
  },
  "language_info": {
   "codemirror_mode": {
    "name": "ipython",
    "version": 3
   },
   "file_extension": ".py",
   "mimetype": "text/x-python",
   "name": "python",
   "nbconvert_exporter": "python",
   "pygments_lexer": "ipython3",
   "version": "3.10.8"
  }
 },
 "nbformat": 4,
 "nbformat_minor": 2
}
