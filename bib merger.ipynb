{
 "cells": [
  {
   "cell_type": "code",
   "execution_count": 26,
   "metadata": {},
   "outputs": [],
   "source": [
    "import os"
   ]
  },
  {
   "cell_type": "code",
   "execution_count": 27,
   "metadata": {},
   "outputs": [
    {
     "data": {
      "text/plain": [
       "['./Bibliography.bib', './simple.bib']"
      ]
     },
     "execution_count": 27,
     "metadata": {},
     "output_type": "execute_result"
    }
   ],
   "source": [
    "def find_the_way(path,file_format,con=\"\"):\n",
    "    files_add = []\n",
    "    # r=root, d=directories, f = files\n",
    "    for r, d, f in os.walk(path):\n",
    "        for file in f:\n",
    "            if file_format in file:\n",
    "                if con in file:\n",
    "                    files_add.append(os.path.join(r, file))  \n",
    "            \n",
    "    return files_add\n",
    "path=\"./\"\n",
    "files_add=find_the_way(path,'.bib')\n",
    "files_add"
   ]
  },
  {
   "cell_type": "code",
   "execution_count": 28,
   "metadata": {},
   "outputs": [],
   "source": [
    "ths = open(\"big.bib\", \"w\",encoding=\"utf8\") \n",
    "for i in files_add:\n",
    "    with open(i, \"r\",encoding=\"utf8\") as file:\n",
    "        while True:\n",
    "            line=file.read()\n",
    "            if line==\"\":break\n",
    "            line=line.replace(\"\\n\",\"\")\n",
    "            line=line.replace(\"@\",\"\\n@\")\n",
    "            ths.write(str(line))\n",
    "            #print(line)\n",
    "ths.close()  "
   ]
  },
  {
   "cell_type": "code",
   "execution_count": 29,
   "metadata": {},
   "outputs": [],
   "source": [
    "unique=[]\n",
    "ths = open(\"clean.bib\", \"a\",encoding=\"utf8\") \n",
    "with open(\"big.bib\", \"r\",encoding=\"utf8\") as file:\n",
    "    while True:\n",
    "        line=file.readline()\n",
    "        if line==\"\":break\n",
    "        k=line.split(\",\")\n",
    "        if k[0] not in  unique:\n",
    "            unique.append(k[0])\n",
    "            ths.write(str(line))\n",
    "\n",
    "ths.close()"
   ]
  }
 ],
 "metadata": {
  "kernelspec": {
   "display_name": "Python 3 (ipykernel)",
   "language": "python",
   "name": "python3"
  },
  "language_info": {
   "codemirror_mode": {
    "name": "ipython",
    "version": 3
   },
   "file_extension": ".py",
   "mimetype": "text/x-python",
   "name": "python",
   "nbconvert_exporter": "python",
   "pygments_lexer": "ipython3",
   "version": "3.10.8"
  }
 },
 "nbformat": 4,
 "nbformat_minor": 2
}
