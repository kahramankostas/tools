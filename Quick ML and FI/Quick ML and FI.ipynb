{
 "cells": [
  {
   "cell_type": "code",
   "execution_count": 1,
   "metadata": {},
   "outputs": [],
   "source": [
    "import warnings\n",
    "warnings.filterwarnings(\"ignore\")"
   ]
  },
  {
   "cell_type": "code",
   "execution_count": 2,
   "metadata": {},
   "outputs": [],
   "source": [
    "import os\n",
    "import time\n",
    "import sklearn\n",
    "import numpy as np\n",
    "import pandas as pd\n",
    "from tqdm import tqdm\n",
    "from random import random\n",
    "from tabulate import tabulate\n",
    "\n",
    "import pandas as pd\n",
    "import seaborn as sns\n",
    "import matplotlib.pyplot as plt\n",
    "%matplotlib inline\n",
    "from sklearn.tree import DecisionTreeClassifier\n",
    "evaluate={'Acc':\"Accuracy\", 'b_Acc':\"Balanced Accuracy\", 'F1':\"F1 Score\", 'kap':\"Kappa\", 'ROC':\"Roc\"}"
   ]
  },
  {
   "cell_type": "code",
   "execution_count": 3,
   "metadata": {},
   "outputs": [],
   "source": [
    "from sklearn.svm import SVC\n",
    "from xgboost import XGBClassifier\n",
    "from sklearn.naive_bayes import BernoulliNB\n",
    "from sklearn.neighbors import KNeighborsClassifier\n",
    "from sklearn.linear_model import LogisticRegression\n",
    "from sklearn.tree import DecisionTreeClassifier\n",
    "from sklearn.metrics import accuracy_score\n"
   ]
  },
  {
   "cell_type": "code",
   "execution_count": null,
   "metadata": {},
   "outputs": [],
   "source": []
  },
  {
   "cell_type": "code",
   "execution_count": null,
   "metadata": {},
   "outputs": [],
   "source": []
  },
  {
   "cell_type": "code",
   "execution_count": 4,
   "metadata": {},
   "outputs": [],
   "source": [
    "def folder(f_name): #this function creates a folder named \"attacks\" in the program directory.\n",
    "    try:\n",
    "        if not os.path.exists(f_name):\n",
    "            os.makedirs(f_name)\n",
    "    except OSError:\n",
    "        print (\"The folder could not be created!\")"
   ]
  },
  {
   "cell_type": "code",
   "execution_count": 5,
   "metadata": {},
   "outputs": [
    {
     "data": {
      "text/plain": [
       "['./iris.csv']"
      ]
     },
     "execution_count": 5,
     "metadata": {},
     "output_type": "execute_result"
    }
   ],
   "source": [
    "def find_the_way(path,file_format,con=\"\"):\n",
    "    files_add = []\n",
    "    # r=root, d=directories, f = files\n",
    "    for r, d, f in os.walk(path):\n",
    "        for file in f:\n",
    "            if file_format in file:\n",
    "                if con in file:\n",
    "                    files_add.append(os.path.join(r, file))  \n",
    "            \n",
    "    return files_add\n",
    "path=\"./\"\n",
    "csv_list=find_the_way(path,\".csv\")\n",
    "csv_list"
   ]
  },
  {
   "cell_type": "markdown",
   "metadata": {},
   "source": [
    "# SPLIT DATA as TRAIN AND TEST"
   ]
  },
  {
   "cell_type": "code",
   "execution_count": 6,
   "metadata": {},
   "outputs": [
    {
     "name": "stdout",
     "output_type": "stream",
     "text": [
      "./iris.csv\n"
     ]
    }
   ],
   "source": [
    "for name in csv_list:   \n",
    "    print(name)\n",
    "    df=pd.read_csv(name)#,header=None) \n",
    "    X =df[df.columns[0:-1]]\n",
    "    df[df.columns[-1]] = df[df.columns[-1]].astype('category')\n",
    "    y=df[df.columns[-1]]\n",
    "\n",
    "    # setting up testing and training sets\n",
    "    X_train, X_test, y_train, y_test = sklearn.model_selection.train_test_split(X, y, test_size=0.25, random_state=27,stratify=y)\n",
    "\n",
    "    # concatenate our training data back together\n",
    "    train = pd.concat([X_train, y_train], axis=1)\n",
    "\n",
    "\n",
    "    file=f\"{name[0:-4]}_train.csv\"\n",
    "    \n",
    "\n",
    "    train.to_csv(file,index=False)\n",
    "\n",
    "\n",
    "    test= pd.concat([X_test, y_test], axis=1)\n",
    "\n",
    "    file=name[0:-4]+\"_\"+\"test.csv\"\n",
    "    test.to_csv(file.replace(\"train\",\"test\"),index=False)"
   ]
  },
  {
   "cell_type": "code",
   "execution_count": 7,
   "metadata": {},
   "outputs": [],
   "source": [
    "ml_list={\"DT\":DecisionTreeClassifier()}#,\"SVC\":SVC()}}"
   ]
  },
  {
   "cell_type": "code",
   "execution_count": 8,
   "metadata": {},
   "outputs": [],
   "source": [
    "def target_name(name):\n",
    "    df = pd.read_csv(name)\n",
    "    target_names=sorted(list(df[df.columns[-1]].unique()))\n",
    "    return target_names"
   ]
  },
  {
   "cell_type": "code",
   "execution_count": 9,
   "metadata": {},
   "outputs": [],
   "source": [
    "folder(\"results\")"
   ]
  },
  {
   "cell_type": "markdown",
   "metadata": {},
   "source": [
    "## Calculation of evaluations"
   ]
  },
  {
   "cell_type": "code",
   "execution_count": 10,
   "metadata": {},
   "outputs": [],
   "source": [
    "def score(train_time,test_time,predict,y_test,class_based_results,repeat,cv,dname,ml,sw):\n",
    "    train_time=train_time[0]\n",
    "    test_time=test_time[0]\n",
    "    rc=sklearn.metrics.recall_score(y_test, predict,average= \"macro\")\n",
    "    pr=sklearn.metrics.precision_score(y_test, predict,average= \"macro\")\n",
    "    f_1=sklearn.metrics.f1_score(y_test, predict,average= \"macro\")     \n",
    "    accuracy=sklearn.metrics.accuracy_score(y_test, predict)\n",
    "    accuracy_b=sklearn.metrics.balanced_accuracy_score( y_test,predict)\n",
    "    kappa=sklearn.metrics.cohen_kappa_score(y_test, predict,labels=None, weights=None, sample_weight=None)\n",
    "    try:\n",
    "        roc=sklearn.metrics.roc_auc_score(y_test, predict)\n",
    "    except:roc=np.nan\n",
    "    report = sklearn.metrics.classification_report(y_test, predict, target_names=target_names,output_dict=True)\n",
    "    cr = pd.DataFrame(report).transpose()\n",
    "    line=[dname,sw,repeat,cv,ml,accuracy,accuracy_b,pr,rc,f_1,kappa,roc,train_time,test_time]\n",
    "\n",
    "    if class_based_results.empty:\n",
    "        class_based_results =cr\n",
    "    else:\n",
    "        class_based_results = class_based_results.add(cr, fill_value=0)\n",
    "    return class_based_results,line"
   ]
  },
  {
   "cell_type": "code",
   "execution_count": 11,
   "metadata": {},
   "outputs": [],
   "source": [
    "def ML_CV(loop1,output_csv,cols,dname):\n",
    "    fold=10\n",
    "    repetition=10\n",
    "    sw=np.nan\n",
    "    for ii in ml_list:\n",
    "        class_based_results=pd.DataFrame()#\"\" #pd.DataFrame(0, index=np.arange((len(target_names)+3)), columns=[\"f1-score\",\"precision\",\"recall\",\"support\"])\n",
    "        cm=pd.DataFrame()\n",
    "        cv=0\n",
    "        lines=[[\"Dataset\",\"SW\",\"T\",\"CV\",\"ML\",\"Acc\",\"b_Acc\",\"Prec\",\"Rec\",\"F1\",\"kap\",\"ROC\",\"tra-T\",\"test-T\"]]\n",
    "        cm = pd.DataFrame()\n",
    "        for i in range(repetition):\n",
    "\n",
    "            rnd = random()\n",
    "            \n",
    "            kfold = sklearn.model_selection.KFold(n_splits=fold, shuffle=True, random_state=int(rnd*100))  \n",
    "            cv=0\n",
    "            df = pd.read_csv(loop1,usecols=cols)#,index_col=0)#,header=None )\n",
    "            #df = df.reset_index(drop=True)\n",
    "            df=df.fillna(0)\n",
    "\n",
    "            #del df[\"MAC\"] # if dataset has MAC colomn please uncomment this line\n",
    "            X =df[df.columns[0:-1]]\n",
    "            X=np.array(X)\n",
    "            df[df.columns[-1]] = df[df.columns[-1]].astype('category')\n",
    "            y=df[df.columns[-1]].cat.codes  \n",
    "            X.shape\n",
    "            for train_index, test_index in kfold.split(X):\n",
    "\n",
    "\n",
    "                X_train, X_test = X[train_index], X[test_index]\n",
    "                y_train, y_test = y[train_index], y[test_index]  \n",
    "\n",
    "      \n",
    "\n",
    "\n",
    "                #dname=loop1  [6:-13]  \n",
    "                results_y=[]\n",
    "                cv+=1\n",
    "                results_y.append(y_test)\n",
    "\n",
    "\n",
    "                precision=[]\n",
    "                recall=[]\n",
    "                f1=[]\n",
    "                accuracy=[]\n",
    "                train_time=[]\n",
    "                test_time=[]\n",
    "                total_time=[]\n",
    "                kappa=[]\n",
    "                accuracy_b=[]\n",
    "\n",
    "                    #machine learning algorithm is applied in this section\n",
    "                clf = ml_list[ii]#choose algorithm from ml_list dictionary\n",
    "                second=time.time()\n",
    "                clf.fit(X_train, y_train)\n",
    "                train_time.append(float((time.time()-second)) )\n",
    "                second=time.time()\n",
    "                predict =clf.predict(X_test)\n",
    "                test_time.append(float((time.time()-second)) )\n",
    "    \n",
    "                altime=0\n",
    "                class_based_results,line=score(train_time,test_time,predict,y_test,class_based_results,cv,i,dname,ii,sw)\n",
    "                lines.append(line)\n",
    "\n",
    "                \n",
    "                \n",
    "                \n",
    "                \n",
    "                df_cm = pd.DataFrame(sklearn.metrics.confusion_matrix(y_test, predict))\n",
    "                if cm.empty:\n",
    "                    cm =df_cm\n",
    "                else:\n",
    "                    cm = cm.add(df_cm, fill_value=0)\n",
    "                \n",
    "                \n",
    "                \n",
    "                \n",
    "                \n",
    "        results = pd.DataFrame (lines[1:], columns = lines[0])\n",
    "        results.to_csv(output_csv.replace(\"ML\",ii),index=False)\n",
    "        results=results.round(3)\n",
    "        print (tabulate(results, headers=list(results.columns)))\n",
    "        #print()\n",
    "        if True:\n",
    "            cm=cm//(repetition*cv)\n",
    "            graph_name=output_csv[:-4]+\"_confusion matrix.pdf\"   \n",
    "            plt.figure(figsize = (10,7))\n",
    "            sns.heatmap(cm,xticklabels=target_names, yticklabels=target_names, annot=True, fmt='g')\n",
    "            plt.savefig(graph_name,bbox_inches='tight')#, dpi=400)\n",
    "            plt.show()\n",
    "            #print(cm)\n",
    "            print(\"\\n\\n\\n\")             \n",
    "\n",
    "\n"
   ]
  },
  {
   "cell_type": "markdown",
   "metadata": {},
   "source": [
    "# 10 fold 10 times Cross-Validating"
   ]
  },
  {
   "cell_type": "code",
   "execution_count": 12,
   "metadata": {},
   "outputs": [],
   "source": [
    "feature=[\"sepal.length\",\"sepal.width\",\"petal.length\",\"petal.width\",\"variety\"]"
   ]
  },
  {
   "cell_type": "code",
   "execution_count": 13,
   "metadata": {},
   "outputs": [],
   "source": [
    "train=\"iris.csv\"\n",
    "output_csv=\"results_CV.csv\"\n",
    "target_names=target_name(train)\n",
    "dname=\"IRIS_10X10_CV\""
   ]
  },
  {
   "cell_type": "code",
   "execution_count": 14,
   "metadata": {
    "scrolled": false
   },
   "outputs": [
    {
     "name": "stdout",
     "output_type": "stream",
     "text": [
      "    Dataset          SW    T    CV  ML      Acc    b_Acc    Prec    Rec     F1    kap    ROC    tra-T    test-T\n",
      "--  -------------  ----  ---  ----  ----  -----  -------  ------  -----  -----  -----  -----  -------  --------\n",
      " 0  IRIS_10X10_CV   nan    1     0  DT    0.933    0.952   0.917  0.952  0.927  0.897    nan    0.001         0\n",
      " 1  IRIS_10X10_CV   nan    2     0  DT    1        1       1      1      1      1        nan    0.001         0\n",
      " 2  IRIS_10X10_CV   nan    3     0  DT    1        1       1      1      1      1        nan    0             0\n",
      " 3  IRIS_10X10_CV   nan    4     0  DT    0.933    0.963   0.933  0.963  0.943  0.884    nan    0             0\n",
      " 4  IRIS_10X10_CV   nan    5     0  DT    1        1       1      1      1      1        nan    0             0\n",
      " 5  IRIS_10X10_CV   nan    6     0  DT    1        1       1      1      1      1        nan    0             0\n",
      " 6  IRIS_10X10_CV   nan    7     0  DT    1        1       1      1      1      1        nan    0             0\n",
      " 7  IRIS_10X10_CV   nan    8     0  DT    0.8      0.821   0.811  0.821  0.812  0.694    nan    0             0\n",
      " 8  IRIS_10X10_CV   nan    9     0  DT    0.867    0.875   0.875  0.875  0.875  0.779    nan    0             0\n",
      " 9  IRIS_10X10_CV   nan   10     0  DT    0.933    0.933   0.944  0.933  0.933  0.9      nan    0             0\n",
      "10  IRIS_10X10_CV   nan    1     1  DT    1        1       1      1      1      1        nan    0.016         0\n",
      "11  IRIS_10X10_CV   nan    2     1  DT    1        1       1      1      1      1        nan    0             0\n",
      "12  IRIS_10X10_CV   nan    3     1  DT    0.933    0.917   0.933  0.917  0.915  0.896    nan    0             0\n",
      "13  IRIS_10X10_CV   nan    4     1  DT    1        1       1      1      1      1        nan    0             0\n",
      "14  IRIS_10X10_CV   nan    5     1  DT    0.933    0.952   0.917  0.952  0.927  0.897    nan    0             0\n",
      "15  IRIS_10X10_CV   nan    6     1  DT    0.867    0.905   0.917  0.905  0.897  0.783    nan    0             0\n",
      "16  IRIS_10X10_CV   nan    7     1  DT    0.933    0.917   0.917  0.917  0.905  0.891    nan    0             0\n",
      "17  IRIS_10X10_CV   nan    8     1  DT    0.933    0.889   0.952  0.889  0.908  0.894    nan    0             0\n",
      "18  IRIS_10X10_CV   nan    9     1  DT    1        1       1      1      1      1        nan    0             0\n",
      "19  IRIS_10X10_CV   nan   10     1  DT    0.867    0.905   0.917  0.905  0.897  0.783    nan    0             0\n",
      "20  IRIS_10X10_CV   nan    1     2  DT    1        1       1      1      1      1        nan    0             0\n",
      "21  IRIS_10X10_CV   nan    2     2  DT    1        1       1      1      1      1        nan    0             0\n",
      "22  IRIS_10X10_CV   nan    3     2  DT    1        1       1      1      1      1        nan    0             0\n",
      "23  IRIS_10X10_CV   nan    4     2  DT    0.933    0.933   0.952  0.933  0.937  0.898    nan    0             0\n",
      "24  IRIS_10X10_CV   nan    5     2  DT    1        1       1      1      1      1        nan    0             0\n",
      "25  IRIS_10X10_CV   nan    6     2  DT    0.867    0.889   0.867  0.889  0.85   0.8      nan    0             0\n",
      "26  IRIS_10X10_CV   nan    7     2  DT    0.867    0.861   0.861  0.861  0.861  0.797    nan    0.001         0\n",
      "27  IRIS_10X10_CV   nan    8     2  DT    1        1       1      1      1      1        nan    0             0\n",
      "28  IRIS_10X10_CV   nan    9     2  DT    0.867    0.867   0.867  0.867  0.867  0.8      nan    0             0\n",
      "29  IRIS_10X10_CV   nan   10     2  DT    0.933    0.952   0.952  0.952  0.949  0.891    nan    0.001         0\n",
      "30  IRIS_10X10_CV   nan    1     3  DT    0.867    0.889   0.867  0.889  0.85   0.8      nan    0.001         0\n",
      "31  IRIS_10X10_CV   nan    2     3  DT    1        1       1      1      1      1        nan    0             0\n",
      "32  IRIS_10X10_CV   nan    3     3  DT    1        1       1      1      1      1        nan    0             0\n",
      "33  IRIS_10X10_CV   nan    4     3  DT    0.933    0.958   0.944  0.958  0.947  0.889    nan    0             0\n",
      "34  IRIS_10X10_CV   nan    5     3  DT    1        1       1      1      1      1        nan    0             0\n",
      "35  IRIS_10X10_CV   nan    6     3  DT    1        1       1      1      1      1        nan    0             0\n",
      "36  IRIS_10X10_CV   nan    7     3  DT    1        1       1      1      1      1        nan    0             0\n",
      "37  IRIS_10X10_CV   nan    8     3  DT    0.933    0.952   0.944  0.952  0.944  0.896    nan    0             0\n",
      "38  IRIS_10X10_CV   nan    9     3  DT    0.933    0.833   0.933  0.833  0.852  0.877    nan    0             0\n",
      "39  IRIS_10X10_CV   nan   10     3  DT    0.933    0.889   0.958  0.889  0.911  0.891    nan    0             0\n",
      "40  IRIS_10X10_CV   nan    1     4  DT    1        1       1      1      1      1        nan    0             0\n",
      "41  IRIS_10X10_CV   nan    2     4  DT    1        1       1      1      1      1        nan    0             0\n",
      "42  IRIS_10X10_CV   nan    3     4  DT    0.933    0.952   0.933  0.952  0.937  0.898    nan    0             0\n",
      "43  IRIS_10X10_CV   nan    4     4  DT    0.933    0.952   0.933  0.952  0.937  0.898    nan    0             0\n",
      "44  IRIS_10X10_CV   nan    5     4  DT    0.867    0.841   0.841  0.841  0.841  0.789    nan    0             0\n",
      "45  IRIS_10X10_CV   nan    6     4  DT    0.933    0.933   0.944  0.933  0.933  0.9      nan    0             0\n",
      "46  IRIS_10X10_CV   nan    7     4  DT    1        1       1      1      1      1        nan    0             0\n",
      "47  IRIS_10X10_CV   nan    8     4  DT    0.867    0.767   0.767  0.767  0.767  0.773    nan    0             0\n",
      "48  IRIS_10X10_CV   nan    9     4  DT    0.933    0.944   0.952  0.944  0.944  0.896    nan    0             0\n",
      "49  IRIS_10X10_CV   nan   10     4  DT    1        1       1      1      1      1        nan    0             0\n",
      "50  IRIS_10X10_CV   nan    1     5  DT    0.933    0.889   0.963  0.889  0.914  0.885    nan    0             0\n",
      "51  IRIS_10X10_CV   nan    2     5  DT    1        1       1      1      1      1        nan    0.001         0\n",
      "52  IRIS_10X10_CV   nan    3     5  DT    0.933    0.958   0.917  0.958  0.93   0.894    nan    0             0\n",
      "53  IRIS_10X10_CV   nan    4     5  DT    1        1       1      1      1      1        nan    0             0\n",
      "54  IRIS_10X10_CV   nan    5     5  DT    0.933    0.958   0.889  0.958  0.911  0.891    nan    0.001         0\n",
      "55  IRIS_10X10_CV   nan    6     5  DT    0.933    0.952   0.944  0.952  0.944  0.896    nan    0             0\n",
      "56  IRIS_10X10_CV   nan    7     5  DT    1        1       1      1      1      1        nan    0             0\n",
      "57  IRIS_10X10_CV   nan    8     5  DT    1        1       1      1      1      1        nan    0             0\n",
      "58  IRIS_10X10_CV   nan    9     5  DT    1        1       1      1      1      1        nan    0             0\n",
      "59  IRIS_10X10_CV   nan   10     5  DT    1        1       1      1      1      1        nan    0             0\n",
      "60  IRIS_10X10_CV   nan    1     6  DT    0.867    0.833   0.833  0.833  0.833  0.792    nan    0.001         0\n",
      "61  IRIS_10X10_CV   nan    2     6  DT    1        1       1      1      1      1        nan    0             0\n",
      "62  IRIS_10X10_CV   nan    3     6  DT    1        1       1      1      1      1        nan    0.001         0\n",
      "63  IRIS_10X10_CV   nan    4     6  DT    1        1       1      1      1      1        nan    0             0\n",
      "64  IRIS_10X10_CV   nan    5     6  DT    0.867    0.878   0.878  0.878  0.878  0.797    nan    0.001         0\n",
      "65  IRIS_10X10_CV   nan    6     6  DT    1        1       1      1      1      1        nan    0             0\n",
      "66  IRIS_10X10_CV   nan    7     6  DT    0.933    0.952   0.933  0.952  0.937  0.898    nan    0             0\n",
      "67  IRIS_10X10_CV   nan    8     6  DT    0.933    0.889   0.952  0.889  0.908  0.894    nan    0             0\n",
      "68  IRIS_10X10_CV   nan    9     6  DT    0.933    0.917   0.944  0.917  0.922  0.898    nan    0             0\n",
      "69  IRIS_10X10_CV   nan   10     6  DT    0.933    0.958   0.944  0.958  0.947  0.889    nan    0.016         0\n",
      "70  IRIS_10X10_CV   nan    1     7  DT    1        1       1      1      1      1        nan    0             0\n",
      "71  IRIS_10X10_CV   nan    2     7  DT    0.933    0.963   0.944  0.963  0.95   0.877    nan    0             0\n",
      "72  IRIS_10X10_CV   nan    3     7  DT    0.933    0.944   0.917  0.944  0.922  0.898    nan    0             0\n",
      "73  IRIS_10X10_CV   nan    4     7  DT    0.933    0.944   0.917  0.944  0.922  0.898    nan    0             0\n",
      "74  IRIS_10X10_CV   nan    5     7  DT    1        1       1      1      1      1        nan    0             0\n",
      "75  IRIS_10X10_CV   nan    6     7  DT    1        1       1      1      1      1        nan    0             0\n",
      "76  IRIS_10X10_CV   nan    7     7  DT    1        1       1      1      1      1        nan    0             0\n",
      "77  IRIS_10X10_CV   nan    8     7  DT    0.8      0.821   0.811  0.821  0.812  0.694    nan    0             0\n",
      "78  IRIS_10X10_CV   nan    9     7  DT    1        1       1      1      1      1        nan    0             0\n",
      "79  IRIS_10X10_CV   nan   10     7  DT    1        1       1      1      1      1        nan    0             0\n",
      "80  IRIS_10X10_CV   nan    1     8  DT    1        1       1      1      1      1        nan    0             0\n",
      "81  IRIS_10X10_CV   nan    2     8  DT    1        1       1      1      1      1        nan    0             0\n",
      "82  IRIS_10X10_CV   nan    3     8  DT    1        1       1      1      1      1        nan    0             0\n",
      "83  IRIS_10X10_CV   nan    4     8  DT    0.867    0.867   0.917  0.867  0.869  0.795    nan    0             0\n",
      "84  IRIS_10X10_CV   nan    5     8  DT    0.933    0.944   0.889  0.944  0.903  0.893    nan    0             0\n",
      "85  IRIS_10X10_CV   nan    6     8  DT    0.8      0.8     0.889  0.8    0.79   0.69     nan    0.001         0\n",
      "86  IRIS_10X10_CV   nan    7     8  DT    0.8      0.811   0.821  0.811  0.812  0.694    nan    0             0\n",
      "87  IRIS_10X10_CV   nan    8     8  DT    1        1       1      1      1      1        nan    0             0\n",
      "88  IRIS_10X10_CV   nan    9     8  DT    0.933    0.933   0.933  0.933  0.926  0.899    nan    0             0\n",
      "89  IRIS_10X10_CV   nan   10     8  DT    0.933    0.952   0.889  0.952  0.908  0.894    nan    0             0\n",
      "90  IRIS_10X10_CV   nan    1     9  DT    0.933    0.952   0.917  0.952  0.927  0.897    nan    0             0\n",
      "91  IRIS_10X10_CV   nan    2     9  DT    1        1       1      1      1      1        nan    0             0\n",
      "92  IRIS_10X10_CV   nan    3     9  DT    1        1       1      1      1      1        nan    0             0\n",
      "93  IRIS_10X10_CV   nan    4     9  DT    0.933    0.963   0.933  0.963  0.943  0.884    nan    0             0\n",
      "94  IRIS_10X10_CV   nan    5     9  DT    1        1       1      1      1      1        nan    0             0\n",
      "95  IRIS_10X10_CV   nan    6     9  DT    1        1       1      1      1      1        nan    0             0\n",
      "96  IRIS_10X10_CV   nan    7     9  DT    1        1       1      1      1      1        nan    0             0\n",
      "97  IRIS_10X10_CV   nan    8     9  DT    0.8      0.821   0.811  0.821  0.812  0.694    nan    0             0\n",
      "98  IRIS_10X10_CV   nan    9     9  DT    0.867    0.875   0.875  0.875  0.875  0.779    nan    0             0\n",
      "99  IRIS_10X10_CV   nan   10     9  DT    0.933    0.933   0.944  0.933  0.933  0.9      nan    0             0\n"
     ]
    },
    {
     "data": {
      "image/png": "[encoded data removed]",
      "text/plain": [
       "<Figure size 1000x700 with 2 Axes>"
      ]
     },
     "metadata": {},
     "output_type": "display_data"
    },
    {
     "name": "stdout",
     "output_type": "stream",
     "text": [
      "\n",
      "\n",
      "\n",
      "\n"
     ]
    }
   ],
   "source": [
    "ML_CV(train,output_csv,feature,dname)   "
   ]
  },
  {
   "cell_type": "markdown",
   "metadata": {},
   "source": [
    "# seperated train test"
   ]
  },
  {
   "cell_type": "code",
   "execution_count": 15,
   "metadata": {},
   "outputs": [],
   "source": [
    "def ML(loop1,loop2,output_csv,cols,dname):\n",
    "    fold=5\n",
    "    repetition=100\n",
    "    sw=np.nan\n",
    "    for ii in ml_list:\n",
    "        class_based_results=pd.DataFrame()#\"\" #pd.DataFrame(0, index=np.arange((len(target_names)+3)), columns=[\"f1-score\",\"precision\",\"recall\",\"support\"])\n",
    "        cm=pd.DataFrame()\n",
    "        cv=0\n",
    "        lines=[[\"Dataset\",\"SW\",\"T\",\"CV\",\"ML\",\"Acc\",\"b_Acc\",\"Prec\",\"Rec\",\"F1\",\"kap\",\"ROC\",\"tra-T\",\"test-T\"]]\n",
    "        cm = pd.DataFrame()\n",
    "        for i in range(repetition):\n",
    "\n",
    "            #rnd = random()\n",
    "            \n",
    "            #kfold = sklearn.model_selection.KFold(n_splits=fold, shuffle=True, random_state=int(rnd*100))  \n",
    "            cv=0\n",
    "            df = pd.read_csv(loop1,usecols=cols)#,header=None )\n",
    "            df=df.fillna(0)\n",
    "            X_train =df[df.columns[0:-1]]\n",
    "            X_train=np.array(X_train)\n",
    "            df[df.columns[-1]] = df[df.columns[-1]].astype('category')\n",
    "            y_train=df[df.columns[-1]].cat.codes  \n",
    "\n",
    "\n",
    "            df = pd.read_csv(loop2,usecols=cols)#,header=None )\n",
    "            df=df.fillna(0)\n",
    "            X_test =df[df.columns[0:-1]]\n",
    "            X_test=np.array(X_test)\n",
    "            df[df.columns[-1]] = df[df.columns[-1]].astype('category')\n",
    "            y_test=df[df.columns[-1]].cat.codes  \n",
    "\n",
    "\n",
    "\n",
    "      \n",
    "\n",
    "\n",
    "            #dname=loop1  [6:-13]  \n",
    "            results_y=[]\n",
    "            cv+=1\n",
    "            results_y.append(y_test)\n",
    "\n",
    "\n",
    "            precision=[]\n",
    "            recall=[]\n",
    "            f1=[]\n",
    "            accuracy=[]\n",
    "            train_time=[]\n",
    "            test_time=[]\n",
    "            total_time=[]\n",
    "            kappa=[]\n",
    "            accuracy_b=[]\n",
    "\n",
    "                #machine learning algorithm is applied in this section\n",
    "            clf = ml_list[ii]#choose algorithm from ml_list dictionary\n",
    "            second=time.time()\n",
    "            clf.fit(X_train, y_train)\n",
    "            train_time.append(float((time.time()-second)) )\n",
    "            second=time.time()\n",
    "            predict =clf.predict(X_test)\n",
    "            test_time.append(float((time.time()-second)) )\n",
    "\n",
    "            altime=0\n",
    "            class_based_results,line=score(train_time,test_time,predict,y_test,class_based_results,cv,i,dname,ii,sw)\n",
    "            lines.append(line)\n",
    "\n",
    "\n",
    "\n",
    "\n",
    "\n",
    "            df_cm = pd.DataFrame(sklearn.metrics.confusion_matrix(y_test, predict))\n",
    "            if cm.empty:\n",
    "                cm =df_cm\n",
    "            else:\n",
    "                cm = cm.add(df_cm, fill_value=0)\n",
    "\n",
    "\n",
    "\n",
    "                \n",
    "                \n",
    "        results = pd.DataFrame (lines[1:], columns = lines[0])\n",
    "        results.to_csv(output_csv.replace(\"ML\",ii),index=False)\n",
    "        results=results.round(3)\n",
    "        print (tabulate(results, headers=list(results.columns)))\n",
    "        #print()\n",
    "        if True:\n",
    "            cm=cm//(repetition*cv)\n",
    "            graph_name=output_csv+ii+\"_confusion matrix.pdf\"   \n",
    "            plt.figure(figsize = (10,7))\n",
    "            sns.heatmap(cm,xticklabels=target_names, yticklabels=target_names, annot=True, fmt='g')\n",
    "            plt.savefig(graph_name,bbox_inches='tight')#, dpi=400)\n",
    "            plt.show()\n",
    "            #print(cm)\n",
    "            print(\"\\n\\n\\n\")             \n",
    "\n",
    "\n"
   ]
  },
  {
   "cell_type": "code",
   "execution_count": 16,
   "metadata": {},
   "outputs": [],
   "source": [
    "train=\"iris_train.csv\"\n",
    "test=\"iris_test.csv\"\n",
    "output_csv=\"results_100R.csv\"\n",
    "train=\"iris.csv\"\n",
    "target_names=target_name(train)\n",
    "dname=\"IRIS_100_times\"\n"
   ]
  },
  {
   "cell_type": "code",
   "execution_count": 17,
   "metadata": {
    "scrolled": false
   },
   "outputs": [
    {
     "name": "stdout",
     "output_type": "stream",
     "text": [
      "    Dataset           SW    T    CV  ML      Acc    b_Acc    Prec    Rec    F1    kap    ROC    tra-T    test-T\n",
      "--  --------------  ----  ---  ----  ----  -----  -------  ------  -----  ----  -----  -----  -------  --------\n",
      " 0  IRIS_100_times   nan    1     0  DT        1        1       1      1     1      1    nan    0             0\n",
      " 1  IRIS_100_times   nan    1     1  DT        1        1       1      1     1      1    nan    0             0\n",
      " 2  IRIS_100_times   nan    1     2  DT        1        1       1      1     1      1    nan    0.001         0\n",
      " 3  IRIS_100_times   nan    1     3  DT        1        1       1      1     1      1    nan    0             0\n",
      " 4  IRIS_100_times   nan    1     4  DT        1        1       1      1     1      1    nan    0             0\n",
      " 5  IRIS_100_times   nan    1     5  DT        1        1       1      1     1      1    nan    0             0\n",
      " 6  IRIS_100_times   nan    1     6  DT        1        1       1      1     1      1    nan    0             0\n",
      " 7  IRIS_100_times   nan    1     7  DT        1        1       1      1     1      1    nan    0             0\n",
      " 8  IRIS_100_times   nan    1     8  DT        1        1       1      1     1      1    nan    0             0\n",
      " 9  IRIS_100_times   nan    1     9  DT        1        1       1      1     1      1    nan    0             0\n",
      "10  IRIS_100_times   nan    1    10  DT        1        1       1      1     1      1    nan    0             0\n",
      "11  IRIS_100_times   nan    1    11  DT        1        1       1      1     1      1    nan    0             0\n",
      "12  IRIS_100_times   nan    1    12  DT        1        1       1      1     1      1    nan    0             0\n",
      "13  IRIS_100_times   nan    1    13  DT        1        1       1      1     1      1    nan    0             0\n",
      "14  IRIS_100_times   nan    1    14  DT        1        1       1      1     1      1    nan    0             0\n",
      "15  IRIS_100_times   nan    1    15  DT        1        1       1      1     1      1    nan    0.014         0\n",
      "16  IRIS_100_times   nan    1    16  DT        1        1       1      1     1      1    nan    0             0\n",
      "17  IRIS_100_times   nan    1    17  DT        1        1       1      1     1      1    nan    0.001         0\n",
      "18  IRIS_100_times   nan    1    18  DT        1        1       1      1     1      1    nan    0.001         0\n",
      "19  IRIS_100_times   nan    1    19  DT        1        1       1      1     1      1    nan    0.001         0\n",
      "20  IRIS_100_times   nan    1    20  DT        1        1       1      1     1      1    nan    0             0\n",
      "21  IRIS_100_times   nan    1    21  DT        1        1       1      1     1      1    nan    0             0\n",
      "22  IRIS_100_times   nan    1    22  DT        1        1       1      1     1      1    nan    0             0\n",
      "23  IRIS_100_times   nan    1    23  DT        1        1       1      1     1      1    nan    0             0\n",
      "24  IRIS_100_times   nan    1    24  DT        1        1       1      1     1      1    nan    0             0\n",
      "25  IRIS_100_times   nan    1    25  DT        1        1       1      1     1      1    nan    0             0\n",
      "26  IRIS_100_times   nan    1    26  DT        1        1       1      1     1      1    nan    0             0\n",
      "27  IRIS_100_times   nan    1    27  DT        1        1       1      1     1      1    nan    0             0\n",
      "28  IRIS_100_times   nan    1    28  DT        1        1       1      1     1      1    nan    0             0\n",
      "29  IRIS_100_times   nan    1    29  DT        1        1       1      1     1      1    nan    0             0\n",
      "30  IRIS_100_times   nan    1    30  DT        1        1       1      1     1      1    nan    0             0\n",
      "31  IRIS_100_times   nan    1    31  DT        1        1       1      1     1      1    nan    0             0\n",
      "32  IRIS_100_times   nan    1    32  DT        1        1       1      1     1      1    nan    0.001         0\n",
      "33  IRIS_100_times   nan    1    33  DT        1        1       1      1     1      1    nan    0             0\n",
      "34  IRIS_100_times   nan    1    34  DT        1        1       1      1     1      1    nan    0             0\n",
      "35  IRIS_100_times   nan    1    35  DT        1        1       1      1     1      1    nan    0             0\n",
      "36  IRIS_100_times   nan    1    36  DT        1        1       1      1     1      1    nan    0             0\n",
      "37  IRIS_100_times   nan    1    37  DT        1        1       1      1     1      1    nan    0             0\n",
      "38  IRIS_100_times   nan    1    38  DT        1        1       1      1     1      1    nan    0             0\n",
      "39  IRIS_100_times   nan    1    39  DT        1        1       1      1     1      1    nan    0             0\n",
      "40  IRIS_100_times   nan    1    40  DT        1        1       1      1     1      1    nan    0             0\n",
      "41  IRIS_100_times   nan    1    41  DT        1        1       1      1     1      1    nan    0             0\n",
      "42  IRIS_100_times   nan    1    42  DT        1        1       1      1     1      1    nan    0             0\n",
      "43  IRIS_100_times   nan    1    43  DT        1        1       1      1     1      1    nan    0             0\n",
      "44  IRIS_100_times   nan    1    44  DT        1        1       1      1     1      1    nan    0             0\n",
      "45  IRIS_100_times   nan    1    45  DT        1        1       1      1     1      1    nan    0             0\n",
      "46  IRIS_100_times   nan    1    46  DT        1        1       1      1     1      1    nan    0             0\n",
      "47  IRIS_100_times   nan    1    47  DT        1        1       1      1     1      1    nan    0             0\n",
      "48  IRIS_100_times   nan    1    48  DT        1        1       1      1     1      1    nan    0             0\n",
      "49  IRIS_100_times   nan    1    49  DT        1        1       1      1     1      1    nan    0             0\n",
      "50  IRIS_100_times   nan    1    50  DT        1        1       1      1     1      1    nan    0             0\n",
      "51  IRIS_100_times   nan    1    51  DT        1        1       1      1     1      1    nan    0             0\n",
      "52  IRIS_100_times   nan    1    52  DT        1        1       1      1     1      1    nan    0.001         0\n",
      "53  IRIS_100_times   nan    1    53  DT        1        1       1      1     1      1    nan    0             0\n",
      "54  IRIS_100_times   nan    1    54  DT        1        1       1      1     1      1    nan    0             0\n",
      "55  IRIS_100_times   nan    1    55  DT        1        1       1      1     1      1    nan    0             0\n",
      "56  IRIS_100_times   nan    1    56  DT        1        1       1      1     1      1    nan    0             0\n",
      "57  IRIS_100_times   nan    1    57  DT        1        1       1      1     1      1    nan    0             0\n",
      "58  IRIS_100_times   nan    1    58  DT        1        1       1      1     1      1    nan    0             0\n",
      "59  IRIS_100_times   nan    1    59  DT        1        1       1      1     1      1    nan    0             0\n",
      "60  IRIS_100_times   nan    1    60  DT        1        1       1      1     1      1    nan    0             0\n",
      "61  IRIS_100_times   nan    1    61  DT        1        1       1      1     1      1    nan    0             0\n",
      "62  IRIS_100_times   nan    1    62  DT        1        1       1      1     1      1    nan    0             0\n",
      "63  IRIS_100_times   nan    1    63  DT        1        1       1      1     1      1    nan    0             0\n",
      "64  IRIS_100_times   nan    1    64  DT        1        1       1      1     1      1    nan    0.001         0\n",
      "65  IRIS_100_times   nan    1    65  DT        1        1       1      1     1      1    nan    0             0\n",
      "66  IRIS_100_times   nan    1    66  DT        1        1       1      1     1      1    nan    0             0\n",
      "67  IRIS_100_times   nan    1    67  DT        1        1       1      1     1      1    nan    0             0\n",
      "68  IRIS_100_times   nan    1    68  DT        1        1       1      1     1      1    nan    0             0\n",
      "69  IRIS_100_times   nan    1    69  DT        1        1       1      1     1      1    nan    0             0\n",
      "70  IRIS_100_times   nan    1    70  DT        1        1       1      1     1      1    nan    0             0\n",
      "71  IRIS_100_times   nan    1    71  DT        1        1       1      1     1      1    nan    0             0\n",
      "72  IRIS_100_times   nan    1    72  DT        1        1       1      1     1      1    nan    0             0\n",
      "73  IRIS_100_times   nan    1    73  DT        1        1       1      1     1      1    nan    0             0\n",
      "74  IRIS_100_times   nan    1    74  DT        1        1       1      1     1      1    nan    0             0\n",
      "75  IRIS_100_times   nan    1    75  DT        1        1       1      1     1      1    nan    0             0\n",
      "76  IRIS_100_times   nan    1    76  DT        1        1       1      1     1      1    nan    0.001         0\n",
      "77  IRIS_100_times   nan    1    77  DT        1        1       1      1     1      1    nan    0             0\n",
      "78  IRIS_100_times   nan    1    78  DT        1        1       1      1     1      1    nan    0             0\n",
      "79  IRIS_100_times   nan    1    79  DT        1        1       1      1     1      1    nan    0             0\n",
      "80  IRIS_100_times   nan    1    80  DT        1        1       1      1     1      1    nan    0             0\n",
      "81  IRIS_100_times   nan    1    81  DT        1        1       1      1     1      1    nan    0             0\n",
      "82  IRIS_100_times   nan    1    82  DT        1        1       1      1     1      1    nan    0             0\n",
      "83  IRIS_100_times   nan    1    83  DT        1        1       1      1     1      1    nan    0             0\n",
      "84  IRIS_100_times   nan    1    84  DT        1        1       1      1     1      1    nan    0             0\n",
      "85  IRIS_100_times   nan    1    85  DT        1        1       1      1     1      1    nan    0             0\n",
      "86  IRIS_100_times   nan    1    86  DT        1        1       1      1     1      1    nan    0             0\n",
      "87  IRIS_100_times   nan    1    87  DT        1        1       1      1     1      1    nan    0             0\n",
      "88  IRIS_100_times   nan    1    88  DT        1        1       1      1     1      1    nan    0             0\n",
      "89  IRIS_100_times   nan    1    89  DT        1        1       1      1     1      1    nan    0             0\n",
      "90  IRIS_100_times   nan    1    90  DT        1        1       1      1     1      1    nan    0             0\n",
      "91  IRIS_100_times   nan    1    91  DT        1        1       1      1     1      1    nan    0             0\n",
      "92  IRIS_100_times   nan    1    92  DT        1        1       1      1     1      1    nan    0             0\n",
      "93  IRIS_100_times   nan    1    93  DT        1        1       1      1     1      1    nan    0             0\n",
      "94  IRIS_100_times   nan    1    94  DT        1        1       1      1     1      1    nan    0             0\n",
      "95  IRIS_100_times   nan    1    95  DT        1        1       1      1     1      1    nan    0             0\n",
      "96  IRIS_100_times   nan    1    96  DT        1        1       1      1     1      1    nan    0             0\n",
      "97  IRIS_100_times   nan    1    97  DT        1        1       1      1     1      1    nan    0             0\n",
      "98  IRIS_100_times   nan    1    98  DT        1        1       1      1     1      1    nan    0             0\n",
      "99  IRIS_100_times   nan    1    99  DT        1        1       1      1     1      1    nan    0             0\n"
     ]
    },
    {
     "data": {
      "image/png": "[encoded data removed]",
      "text/plain": [
       "<Figure size 1000x700 with 2 Axes>"
      ]
     },
     "metadata": {},
     "output_type": "display_data"
    },
    {
     "name": "stdout",
     "output_type": "stream",
     "text": [
      "\n",
      "\n",
      "\n",
      "\n"
     ]
    }
   ],
   "source": [
    "ML(train,test,output_csv,feature,dname)   "
   ]
  },
  {
   "cell_type": "code",
   "execution_count": 20,
   "metadata": {},
   "outputs": [],
   "source": [
    "def dt_fi(loop1,cols,graph_name=\"1.pdf\"):\n",
    "    df = pd.read_csv(loop1,usecols=cols)#,index_col=0)#,header=None )\n",
    "    #df = df.reset_index(drop=True)\n",
    "    df=df.fillna(0)\n",
    "\n",
    "    #del df[\"MAC\"] # if dataset has MAC colomn please uncomment this line\n",
    "    X =df[df.columns[0:-1]]\n",
    "\n",
    "    df[df.columns[-1]] = df[df.columns[-1]].astype('category')\n",
    "    y=df[df.columns[-1]].cat.codes  \n",
    "    X.shape\n",
    "\n",
    "    # define the model\n",
    "    model = DecisionTreeClassifier()\n",
    "    # fit the model\n",
    "    model.fit(X, y)\n",
    "    # get importance\n",
    "    importance = model.feature_importances_\n",
    "    # summarize feature importance\n",
    "    my_xticks=list(X.columns)\n",
    "    lines={\"Feature Name\":my_xticks,\"Score\":importance}\n",
    "    results = pd.DataFrame (lines)\n",
    "    print (tabulate(results, headers=list(results.columns)))\n",
    "    \n",
    "    plt.bar(my_xticks, importance)\n",
    "    plt.title(\"DT feature Importance Scores \")\n",
    "    #plt.legend(numpoints=1)\n",
    "    plt.ylabel(\"FI Score\")\n",
    "    plt.xticks(rotation=90) \n",
    "    #plt.ylim([-10, 110]) \n",
    "    plt.savefig(graph_name,bbox_inches='tight',format=\"pdf\")#, dpi=400)\n",
    "    plt.show()"
   ]
  },
  {
   "cell_type": "code",
   "execution_count": 21,
   "metadata": {},
   "outputs": [
    {
     "name": "stdout",
     "output_type": "stream",
     "text": [
      "    Feature Name        Score\n",
      "--  --------------  ---------\n",
      " 0  sepal.length    0.0133333\n",
      " 1  sepal.width     0\n",
      " 2  petal.length    0.564056\n",
      " 3  petal.width     0.422611\n"
     ]
    },
    {
     "data": {
      "image/png": "[encoded data removed]",
      "text/plain": [
       "<Figure size 640x480 with 1 Axes>"
      ]
     },
     "metadata": {},
     "output_type": "display_data"
    }
   ],
   "source": [
    "dt_fi(train,feature,\"DT feature Importance Scores.pdf\")   "
   ]
  }
 ],
 "metadata": {
  "kernelspec": {
   "display_name": "Python 3 (ipykernel)",
   "language": "python",
   "name": "python3"
  },
  "language_info": {
   "codemirror_mode": {
    "name": "ipython",
    "version": 3
   },
   "file_extension": ".py",
   "mimetype": "text/x-python",
   "name": "python",
   "nbconvert_exporter": "python",
   "pygments_lexer": "ipython3",
   "version": "3.10.8"
  }
 },
 "nbformat": 4,
 "nbformat_minor": 2
}
