{
 "cells": [
  {
   "cell_type": "code",
   "execution_count": 1,
   "id": "f5c872f2",
   "metadata": {},
   "outputs": [
    {
     "name": "stdout",
     "output_type": "stream",
     "text": [
      "Starting...\n",
      "Done.\n"
     ]
    }
   ],
   "source": [
    "import pandas as pd\n",
    "import random\n",
    "\n",
    "# Initialize dummy data\n",
    "dictionary = {}\n",
    "orig = []\n",
    "for x in range(11270):\n",
    "    dictionary[x] = 'Some string ' + str(x)\n",
    "for x in range(200):\n",
    "    orig.append(random.randint(1, 11269))\n",
    "series = pd.Series(orig)\n",
    "\n",
    "# The actual operation we care about\n",
    "print('Starting...')\n",
    "series.replace(dictionary, inplace=True)\n",
    "print('Done.')"
   ]
  },
  {
   "cell_type": "code",
   "execution_count": 2,
   "id": "5d90e654",
   "metadata": {},
   "outputs": [
    {
     "data": {
      "text/plain": [
       "0       Some string 493\n",
       "1      Some string 7281\n",
       "2      Some string 8160\n",
       "3      Some string 3014\n",
       "4      Some string 7642\n",
       "             ...       \n",
       "195    Some string 8908\n",
       "196     Some string 157\n",
       "197    Some string 6130\n",
       "198    Some string 1014\n",
       "199    Some string 3277\n",
       "Length: 200, dtype: object"
      ]
     },
     "execution_count": 2,
     "metadata": {},
     "output_type": "execute_result"
    }
   ],
   "source": [
    "series"
   ]
  },
  {
   "cell_type": "code",
   "execution_count": 3,
   "id": "0e43e7d3",
   "metadata": {},
   "outputs": [
    {
     "name": "stdout",
     "output_type": "stream",
     "text": [
      "96.8 µs ± 3.85 µs per loop (mean ± std. dev. of 7 runs, 10,000 loops each)\n",
      "122 µs ± 2.59 µs per loop (mean ± std. dev. of 7 runs, 10,000 loops each)\n",
      "5.39 ms ± 677 µs per loop (mean ± std. dev. of 7 runs, 100 loops each)\n",
      "427 ms ± 17.4 ms per loop (mean ± std. dev. of 7 runs, 1 loop each)\n"
     ]
    }
   ],
   "source": [
    "%timeit series.map(dictionary.get)\n",
    "%timeit series.map(lambda x: dictionary.get(x,x))\n",
    "%timeit series.map(dictionary)\n",
    "%timeit series.replace(dictionary)\n"
   ]
  },
  {
   "cell_type": "code",
   "execution_count": null,
   "id": "084c1950",
   "metadata": {},
   "outputs": [],
   "source": []
  }
 ],
 "metadata": {
  "kernelspec": {
   "display_name": "Python 3 (ipykernel)",
   "language": "python",
   "name": "python3"
  },
  "language_info": {
   "codemirror_mode": {
    "name": "ipython",
    "version": 3
   },
   "file_extension": ".py",
   "mimetype": "text/x-python",
   "name": "python",
   "nbconvert_exporter": "python",
   "pygments_lexer": "ipython3",
   "version": "3.9.12"
  }
 },
 "nbformat": 4,
 "nbformat_minor": 5
}
