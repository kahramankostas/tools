{
 "cells": [
  {
   "cell_type": "code",
   "execution_count": 28,
   "id": "5fc80f1c-57ea-4b30-8d04-0b56967d1162",
   "metadata": {},
   "outputs": [],
   "source": [
    "from tqdm import tqdm\n",
    "import os"
   ]
  },
  {
   "cell_type": "code",
   "execution_count": 29,
   "id": "826f4924-2f94-4e03-bde2-10389b5d3226",
   "metadata": {},
   "outputs": [
    {
     "name": "stderr",
     "output_type": "stream",
     "text": [
      " 15%|█████████████▉                                                                             | 9/59 [00:00<?, ?it/s]"
     ]
    },
    {
     "name": "stdout",
     "output_type": "stream",
     "text": [
      "121 is not a prime number\n",
      "121= 11*11\n"
     ]
    },
    {
     "name": "stderr",
     "output_type": "stream",
     "text": [
      "\n"
     ]
    }
   ],
   "source": [
    "num = 121 \n",
    "# If given number is greater than 1\n",
    "if num > 1:\n",
    "    for i in tqdm(range(2, (num//2)+1)):\n",
    "        if (num % i) == 0:\n",
    "            print(num, \"is not a prime number\")\n",
    "            print(f\"{num}= {i}*{num//i}\")\n",
    "            break\n",
    "    else:\n",
    "        print(num, \"is a prime number\")\n",
    "else:\n",
    "    print(num, \"is not a prime number\")\n",
    "    "
   ]
  },
  {
   "cell_type": "markdown",
   "id": "c9080268-b2e5-45bf-a057-50e73c798fa3",
   "metadata": {},
   "source": [
    "# for Big Numbers"
   ]
  },
  {
   "cell_type": "code",
   "execution_count": 30,
   "id": "c4f9a16a-da2d-4369-94aa-0577b7f7cb49",
   "metadata": {},
   "outputs": [],
   "source": [
    "def folder(f_name): #this function creates a folder.\n",
    "    try:\n",
    "        if not os.path.exists(f_name):\n",
    "            os.makedirs(f_name)\n",
    "    except OSError:\n",
    "        print (\"The folder could not be created!\")"
   ]
  },
  {
   "cell_type": "code",
   "execution_count": 31,
   "id": "c67a6047-ac33-472b-bae7-c2d7ea83ddf8",
   "metadata": {},
   "outputs": [],
   "source": [
    "def find_the_way(path,file_format,con=\"\"):\n",
    "    files_add = []\n",
    "    # r=root, d=directories, f = files\n",
    "    for r, d, f in os.walk(path):\n",
    "        for file in f:\n",
    "            if file_format in file:\n",
    "                if con in file:\n",
    "                    files_add.append(os.path.join(r, file))  \n",
    "            \n",
    "    return files_add"
   ]
  },
  {
   "cell_type": "code",
   "execution_count": 32,
   "id": "eaeb2bfd-f1a3-4812-8faa-4625bc754140",
   "metadata": {},
   "outputs": [],
   "source": [
    "import zipfile"
   ]
  },
  {
   "cell_type": "code",
   "execution_count": 33,
   "id": "9e44c0df-7206-440b-b8db-4ebb3f1ececb",
   "metadata": {},
   "outputs": [],
   "source": [
    "files_add=find_the_way(\"./zips\",\"zip\")"
   ]
  },
  {
   "cell_type": "code",
   "execution_count": 34,
   "id": "7b35a395-87da-497c-9f36-73afdc16b806",
   "metadata": {},
   "outputs": [],
   "source": [
    "folder(\"prime\")\n",
    "for i in files_add:\n",
    "    with zipfile.ZipFile(i,\"r\") as zip_ref:\n",
    "        zip_ref.extractall(\"./prime\")"
   ]
  },
  {
   "cell_type": "code",
   "execution_count": 35,
   "id": "a7bc8b17-4421-4482-8925-7023b557dd8d",
   "metadata": {},
   "outputs": [],
   "source": [
    "def read_primes(file_path):\n",
    "    primes = []\n",
    "    with open(file_path, 'r') as file:\n",
    "        next(file)  # İlk satırı atla\n",
    "        for line in file:\n",
    "            primes.extend(map(int, line.split()))\n",
    "    return primes\n"
   ]
  },
  {
   "cell_type": "code",
   "execution_count": 47,
   "id": "e50d8dd3-80e7-4f16-9132-f1f12cf795d2",
   "metadata": {},
   "outputs": [
    {
     "name": "stdout",
     "output_type": "stream",
     "text": [
      "1/50\n"
     ]
    },
    {
     "name": "stderr",
     "output_type": "stream",
     "text": [
      "  0%|                                                                                      | 3/1000000 [00:00<?, ?it/s]"
     ]
    },
    {
     "name": "stdout",
     "output_type": "stream",
     "text": [
      "123456781 is not a prime number\n",
      "123456781= 7*17636683\n"
     ]
    },
    {
     "name": "stderr",
     "output_type": "stream",
     "text": [
      "\n"
     ]
    }
   ],
   "source": [
    "files_add=find_the_way(\"./prime\",\".txt\")\n",
    "\n",
    "flag=False\n",
    "num=123456781\n",
    "for no, file_path in enumerate(files_add):\n",
    "    print(f\"{no+1}/{len(files_add)}\")\n",
    "    primes = read_primes(file_path)\n",
    "    for i in tqdm(primes):\n",
    "        if (num % i) == 0:\n",
    "            print(num, \"is not a prime number\")\n",
    "            print(f\"{num}= {i}*{num//i}\")\n",
    "            flag=True\n",
    "            break\n",
    "    if flag:\n",
    "        break"
   ]
  },
  {
   "cell_type": "code",
   "execution_count": null,
   "id": "c61e52d9-27be-464e-a741-0a156523e2d7",
   "metadata": {},
   "outputs": [],
   "source": []
  }
 ],
 "metadata": {
  "kernelspec": {
   "display_name": "Python 3 (ipykernel)",
   "language": "python",
   "name": "python3"
  },
  "language_info": {
   "codemirror_mode": {
    "name": "ipython",
    "version": 3
   },
   "file_extension": ".py",
   "mimetype": "text/x-python",
   "name": "python",
   "nbconvert_exporter": "python",
   "pygments_lexer": "ipython3",
   "version": "3.10.11"
  }
 },
 "nbformat": 4,
 "nbformat_minor": 5
}
