{
 "cells": [
  {
   "cell_type": "markdown",
   "metadata": {},
   "source": [
    "# From John Wallis, 1656"
   ]
  },
  {
   "cell_type": "markdown",
   "metadata": {},
   "source": [
    "![alt text](q.jpeg)"
   ]
  },
  {
   "cell_type": "code",
   "execution_count": 1,
   "metadata": {},
   "outputs": [],
   "source": [
    "from math import pi"
   ]
  },
  {
   "cell_type": "code",
   "execution_count": 2,
   "metadata": {},
   "outputs": [],
   "source": [
    "upper_bound=100000"
   ]
  },
  {
   "cell_type": "code",
   "execution_count": 3,
   "metadata": {},
   "outputs": [
    {
     "name": "stdout",
     "output_type": "stream",
     "text": [
      "3.141576945508715\n"
     ]
    }
   ],
   "source": [
    "even,odd=1,1\n",
    "for i in range(1,upper_bound):\n",
    "    if i%2==0:\n",
    "        even=even*i*i\n",
    "    else:\n",
    "        flag=i\n",
    "        odd=odd*i*i    \n",
    "        \n",
    "print((even/(odd//flag))*2)"
   ]
  },
  {
   "cell_type": "code",
   "execution_count": 4,
   "metadata": {},
   "outputs": [
    {
     "data": {
      "text/plain": [
       "3.141592653589793"
      ]
     },
     "execution_count": 4,
     "metadata": {},
     "output_type": "execute_result"
    }
   ],
   "source": [
    "pi"
   ]
  },
  {
   "cell_type": "markdown",
   "metadata": {},
   "source": [
    "# π for different upper bounds such as 10,100,1000,10000,100000,1000000"
   ]
  },
  {
   "cell_type": "code",
   "execution_count": 24,
   "metadata": {},
   "outputs": [
    {
     "name": "stdout",
     "output_type": "stream",
     "text": [
      "upper bound             π      \n",
      "10              2.972154195011338\n",
      "100             3.1257662923253897\n",
      "1000            3.1400206785767786\n",
      "10000           3.1414355621755523\n",
      "100000          3.141576945508715\n",
      "π               3.141592653589793 \n"
     ]
    }
   ],
   "source": [
    "print('%-15s %-15s' % (\"upper bound\",\"        π\"))\n",
    "for upper_bound in [10,100,1000,10000,100000]:\n",
    "    even,odd=1,1\n",
    "    for i in range(1,upper_bound):\n",
    "        if i%2==0:\n",
    "            even=even*i*i\n",
    "        else:\n",
    "            flag=i\n",
    "            odd=odd*i*i    \n",
    "\n",
    "    print('%-15s %-15s' % (upper_bound,(even/(odd//flag))*2))\n",
    "print(\"%-15s %-15s \" %(\"π\",pi))"
   ]
  },
  {
   "cell_type": "code",
   "execution_count": null,
   "metadata": {},
   "outputs": [],
   "source": []
  }
 ],
 "metadata": {
  "kernelspec": {
   "display_name": "Python 3",
   "language": "python",
   "name": "python3"
  },
  "language_info": {
   "codemirror_mode": {
    "name": "ipython",
    "version": 3
   },
   "file_extension": ".py",
   "mimetype": "text/x-python",
   "name": "python",
   "nbconvert_exporter": "python",
   "pygments_lexer": "ipython3",
   "version": "3.6.5"
  }
 },
 "nbformat": 4,
 "nbformat_minor": 2
}
