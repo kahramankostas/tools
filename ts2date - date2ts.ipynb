{
 "cells": [
  {
   "cell_type": "code",
   "execution_count": 1,
   "id": "1a05c717",
   "metadata": {
    "scrolled": true
   },
   "outputs": [],
   "source": [
    "from datetime import datetime\n",
    "import os\n",
    "import pandas as pd\n",
    "from tqdm import tqdm\n",
    "import warnings\n",
    "warnings.filterwarnings(\"ignore\")"
   ]
  },
  {
   "cell_type": "code",
   "execution_count": 2,
   "id": "7c41dcfa",
   "metadata": {},
   "outputs": [],
   "source": [
    "def ts2date(timestamp):\n",
    "    dt_object = datetime.fromtimestamp(timestamp)\n",
    "    return str(dt_object)\n",
    "\n",
    "\n",
    "def date2ts(date):\n",
    "    now = pd.Timestamp(date)\n",
    "    ts = datetime.timestamp(now)\n",
    "    return ts\n"
   ]
  },
  {
   "cell_type": "code",
   "execution_count": 3,
   "id": "fd678461",
   "metadata": {},
   "outputs": [],
   "source": [
    "tss=[1556540442,1556540441,1556540455,1556540785,1556550442,1576540442]"
   ]
  },
  {
   "cell_type": "code",
   "execution_count": 4,
   "id": "be61987c",
   "metadata": {},
   "outputs": [
    {
     "name": "stdout",
     "output_type": "stream",
     "text": [
      "1556540442\n",
      "1556540441\n",
      "1556540455\n",
      "1556540785\n",
      "1556550442\n",
      "1576540442\n"
     ]
    },
    {
     "data": {
      "text/plain": [
       "['2019-04-29 13:20:42',\n",
       " '2019-04-29 13:20:41',\n",
       " '2019-04-29 13:20:55',\n",
       " '2019-04-29 13:26:25',\n",
       " '2019-04-29 16:07:22',\n",
       " '2019-12-16 23:54:02']"
      ]
     },
     "execution_count": 4,
     "metadata": {},
     "output_type": "execute_result"
    }
   ],
   "source": [
    "new_date=[]\n",
    "for i in tss:#df[\"ts\"]:\n",
    "    print(i)\n",
    "    new_date.append(ts2date(i))\n",
    "new_date"
   ]
  },
  {
   "cell_type": "code",
   "execution_count": 5,
   "id": "62159724",
   "metadata": {},
   "outputs": [
    {
     "data": {
      "text/plain": [
       "[1556540442.0,\n",
       " 1556540441.0,\n",
       " 1556540455.0,\n",
       " 1556540785.0,\n",
       " 1556550442.0,\n",
       " 1576540442.0]"
      ]
     },
     "execution_count": 5,
     "metadata": {},
     "output_type": "execute_result"
    }
   ],
   "source": [
    "ts=[]\n",
    "for i in new_date:#df[\"ts\"]:\n",
    "    ts.append(date2ts(i))\n",
    "ts"
   ]
  },
  {
   "cell_type": "code",
   "execution_count": null,
   "id": "1fba9194",
   "metadata": {},
   "outputs": [],
   "source": []
  },
  {
   "cell_type": "code",
   "execution_count": null,
   "id": "c884cd7f",
   "metadata": {},
   "outputs": [],
   "source": []
  }
 ],
 "metadata": {
  "kernelspec": {
   "display_name": "Python 3 (ipykernel)",
   "language": "python",
   "name": "python3"
  },
  "language_info": {
   "codemirror_mode": {
    "name": "ipython",
    "version": 3
   },
   "file_extension": ".py",
   "mimetype": "text/x-python",
   "name": "python",
   "nbconvert_exporter": "python",
   "pygments_lexer": "ipython3",
   "version": "3.10.8"
  }
 },
 "nbformat": 4,
 "nbformat_minor": 5
}
